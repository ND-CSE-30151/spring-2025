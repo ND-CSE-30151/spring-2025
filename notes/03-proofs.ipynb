{
  "nbformat": 4,
  "nbformat_minor": 0,
  "metadata": {
    "colab": {
      "provenance": []
    },
    "kernelspec": {
      "name": "python3",
      "display_name": "Python 3"
    },
    "language_info": {
      "name": "python"
    }
  },
  "cells": [
    {
      "cell_type": "markdown",
      "source": [
        "# Notebook 3: Proofs"
      ],
      "metadata": {
        "id": "ptrk-nCJZ0as"
      }
    },
    {
      "cell_type": "markdown",
      "metadata": {
        "id": "j95nbHWk7_rG"
      },
      "source": [
        "Most of the work that you will do in this class involves writing proofs. Because students in this class probably have a wide range of backgrounds in proof-writing, I'd like to say a little about it here.\n",
        "\n",
        "<div class=\"alert alert-info\"><p><b>Read</b> Sections 0.3–0.4, unless you feel very comfortable with writing proofs.</p>\n",
        "</div>"
      ]
    },
    {
      "cell_type": "markdown",
      "metadata": {
        "id": "Y4haq6Pt7_rG"
      },
      "source": [
        "My mantra is that writing proofs is actually a lot like writing programs (in fact, there is a [deep connection between the two](https://en.wikipedia.org/wiki/Curry–Howard_correspondence)). A lot of advice about programming applies equally well to proof-writing, and vice versa. I firmly believe that if you work to make your proofs better, you'll also become a better programmer.\n",
        "\n",
        "## Before you write\n",
        "\n",
        "Many students feel that when they are asked to write a proof, they feel that they don't know how to begin. As a running example, imagine that you need to prove: $L^\\ast = \\{\\varepsilon\\} \\cup L \\circ L^\\ast$ for any language $L$.\n",
        "\n",
        "1. **Understand the requirements.** What are the givens: the premise or \"if\" part of the statement to be proven, the definitions of all terms in the statement, and any facts that you're allowed to use? What is the conclusion or \"then\" part of the statement to be proven? You may want to rewrite the statement in a more explicit way. For example, you might rewrite the above statement as: If $L$ is a language over an alphabet $\\Sigma$, then $L^\\ast = \\{\\varepsilon\\} \\cup (L \\circ L^\\ast)$. You might also review the definitions of union ($\\cup$), concatenation ($\\circ$), and Kleene star ($\\ast$).\n",
        "\n",
        "2. **Develop an intuition.** Sometimes it's obvious, but more often, it is not obvious, or it may even feel obviously false! One way to convince yourself is to try examples. In our example, we could try\n",
        "\\begin{align}\n",
        "L &= \\{\\texttt{a}\\} & L^* &= \\{\\varepsilon, \\texttt{a}, \\texttt{aa}, \\ldots\\} & \\{\\varepsilon\\} \\cup L \\circ L^* &= \\{\\varepsilon, \\texttt{a}, \\texttt{aa}, \\texttt{aaa} \\ldots\\} && \\text{✓} \\\\\n",
        "L &= \\{\\varepsilon\\} & L^* &= \\{\\varepsilon\\} & \\{\\varepsilon\\} \\cup L \\circ L^* &= \\{\\varepsilon\\} && \\text{✓} \\\\\n",
        "L &= \\emptyset & L^* &= \\{\\varepsilon\\} & \\{\\varepsilon\\} \\cup L \\circ L^* &= \\{\\varepsilon\\} && \\text{✓} \\\\\n",
        "\\end{align}\n",
        "Choosing good examples (like choosing good test cases) means trying to find examples that falsify the thing to be proved. Seeing how such examples work is a great way to develop an intuition for why the thing must be true.\n",
        "\n",
        "3. **Divide and conquer.** Once you understand what you are given and what you must prove, and have some intuition for why one implies the other, you need to solidify this intuition into a rigorous proof. Often, the best first step is to see if you can break the proof down into smaller, easier-to-prove pieces. In our example, we want to break down the claim $L = \\{\\varepsilon\\} \\cup L \\circ L^*$ into two pieces: (a) $L^\\ast \\subseteq \\{\\varepsilon\\} \\cup L \\circ L^\\ast$ and (b) $L^\\ast \\supseteq \\{\\varepsilon\\} \\cup L \\circ L^\\ast$.\n",
        "\n",
        "You might have to repeat this process a few times. In our example, $L^\\ast \\supseteq \\{\\varepsilon\\} \\cup L \\circ L^\\ast$ can be rephrased as: for all $w$, if $w \\in \\{\\varepsilon\\} \\cup L \\circ L^\\ast$, then $w \\in L^*$. And this can be broken down into two pieces: (ba) if $w \\in \\{\\varepsilon\\}$, then $w \\in L^*$ and (bb) if $w \\in L \\circ L^\\ast$, then $w \\in L^*$.\n",
        "\n",
        "When you feel that you could argue that each of the pieces is true, you might be ready to start writing."
      ]
    },
    {
      "cell_type": "markdown",
      "metadata": {
        "id": "JxzIO9gc7_rH"
      },
      "source": [
        "## Paragraph proofs\n",
        "\n",
        "If your high-school geometry class was like mine, you were taught to write \"two-column\" or \"statement-reason\" proofs. These consist of a sequence of logical statements, each accompanied by a reason. Each statement should be a consequence of zero or more *previous* statements or givens.\n",
        "\n",
        "These are the \"best\" kind of proof because their logical structure is completely explicit. But a proof written this way could be hundreds of pages! You don't want to write that, and your TAs don't want to read that. Instead, most proofs are \"paragraph proofs,\" that is, they are written in English and convince the reader that they *could* write a \"statement-reason\" proof if they really wanted to.\n",
        "\n",
        "Here's an example paragraph proof for our example above (that $L^\\ast = \\{\\varepsilon\\} \\cup L L^\\ast$):\n",
        "\n",
        "> To show that $L^\\ast = \\{\\varepsilon\\} \\cup L L^\\ast$, we need to show that $L^\\ast \\subseteq \\{\\varepsilon\\} \\cup L L^\\ast$ and $L^\\ast \\supseteq \\{\\varepsilon\\} \\cup L L^\\ast$.\n",
        ">\n",
        "> ($\\subseteq$) If $w \\in L^\\ast$, then (by definition of Kleene star) it can be written as $w^{(1)} \\cdots w^{(k)}$, where $k \\geq 0$ and for all $i=1, \\ldots k$, $w^{(i)} \\in L$. We consider two cases, $k=0$ and $k>0$.\n",
        ">   * If $k=0$, then $w = \\varepsilon$.\n",
        ">   * Otherwise, we have $w^{(1)} \\in L$ and $w^{(2)} \\cdots w^{(k)} \\in L^\\ast$ (by definition of Kleene star), so $w \\in L L^\\ast$ (by definition of concatenation).\n",
        ">\n",
        "> Either way, we have $w \\in \\{\\varepsilon\\} \\cup LL^\\ast$.\n",
        ">\n",
        "> ($\\supseteq$) If $w \\in \\{\\varepsilon\\} \\cup L L^\\ast$, then either $w = \\varepsilon$ or $w \\in L L^\\ast$.\n",
        ">   * If $w = \\varepsilon$, then $w \\in L^\\ast$ (by definition of Kleene star).\n",
        ">   * If $w \\in L L^\\ast$, it can be written as $u v$ where $u \\in L$ and $v \\in L^\\ast$ (by definition of concatenation). And $v$, in turn, can be written as $v^{(1)} \\cdots v^{(k)}$ where, for all $i = 1, \\ldots, k$, $v^{(i)} \\in L$ (by definition of Kleene star). So $w$ can be written as $u v^{(1)} \\cdots v^{(k)}$ where $u \\in L$ and for all $i=1, \\ldots, k$, $v^{(i)} \\in L$, so $w \\in L^\\ast$ (by definition of Kleene star).\n",
        "\n",
        "**Exercise**. Suppose you are told, \"Prove that if $y$ is a substring of $w$, then $y^R$ is a substring of $w^R$. You may use the fact that, for any string $u, v$, $(uv)^R = v^R u^R$.\" Below is a statement-reason proof of this fact; rewrite it as a paragraph proof.\n",
        "\n",
        "| Statement                        | Reason                    |\n",
        "|:---------------------------------|:--------------------------|\n",
        "| 1. $y$ is a substring of $w$     | Given                     |\n",
        "| 2. $w = xyz$ for some $x, z$     | Def. of substring         |\n",
        "| 3. $w^R = (xyz)^R$               | Reflexivity, substitution |\n",
        "| 4. $w^R = (yz)^R x^R$            | Fact given above          |\n",
        "| 5. $w^R = z^R y^R x^R$           | Fact given above          |\n",
        "| 6. $y^R$ is a substring of $w^R$ | Def. of substring         |"
      ]
    },
    {
      "cell_type": "markdown",
      "metadata": {
        "id": "Z6IaDfTK7_rH"
      },
      "source": [
        "## What makes a good proof\n",
        "\n",
        "### Order\n",
        "\n",
        "A paragraph proof, like a statement-reason proof, should start from the givens and reason to the conclusion. It shouldn't start with the conclusion and reason backwards to the givens; still less should it assume the conclusion and reason in a circle back to the conclusion.\n",
        "\n",
        "However, just as it's good programming practice to preface a function with a comment that says what the function will do, it's also good proof-writing to sometimes preface a piece of your proof with a \"comment\" stating what it will prove. The difference is that in math, we don't introduce such comments with `#` or `//`, but with words. Some examples of typical verbiage are: \"To show:\", \"Claim:\", \"we need to show,\" \"it suffices to show.\"\n",
        "\n",
        "In our example proof above, we start with two such \"comments,\" introduced by \"to show that...\" and \"we need to show...\". I was lazy and didn't bother to restate them at the end of the proof.\n",
        "\n",
        "**Exercise**. Look at the proof of Theorem 0.20 and number the statements in logical order. If two statements are equivalent, give them the same number."
      ]
    },
    {
      "cell_type": "markdown",
      "metadata": {
        "id": "1PJTXxgs7_rI"
      },
      "source": [
        "### Generality\n",
        "\n",
        "If you have to prove a statement \"There exists X such that Y,\" then it's fine to come up with an example X and prove that it makes Y true; similarly, if you have to *disprove* a statement \"For all X, Y,\" then it's fine to come up with a counterexample X and prove that it makes Y false.\n",
        "\n",
        "But if you have to prove \"For all X, Y\" (and X ranges over an infinite set) not even ten thousand examples constitute one proof. That's not to say that examples are useless. Examples can be extremely helpful as you are preparing to write a proof (as we encouraged you to do above). Examples can also be written into a proof to make a tricky part more clear, but can never take the place of a general argument."
      ]
    },
    {
      "cell_type": "markdown",
      "metadata": {
        "id": "ijHIRoKc7_rI"
      },
      "source": [
        "### Detail\n",
        "\n",
        "A statement-reason proof leaves no gaps in reasoning, but a paragraph proof leaves out details for the sake of brevity and clarity. How much detail? Just as pseudocode should have enough detail that someone else could implement it, a paragraph proof should have enough detail that someone (one of your classmates) can be convinced that a statement-reason proof could be written. But this rule is admittedly difficult to put in to practice. Here are a few examples.\n",
        "\n",
        "There are places in the example proof above where more detail could be given, but isn't expected. For example, it uses the fact that if $w \\in A \\cup B$, then $w \\in A$ or $w \\in B$. In principle, you might need to prove this, but we don't expect it because set theory isn't the focus of this class.\n",
        "\n",
        "Another missing detail is in the statement \"If $w = \\varepsilon$, then $w \\in L^\\ast$.\" In my opinion, this is fine, but since this is a fact about formal languages, which *is* the focus of this class, it would also be okay to add more justification: \"If $w = \\varepsilon$, then $w \\in L^\\ast$, because $\\varepsilon$ is of the form $w^{(1)} \\cdots w^{(k)}$ where $k=0$.\"\n",
        "\n",
        "On the other hand, if the other case just said, \"If $w \\in LL^\\ast$, then obviously $w \\in L^\\ast$,\" that would be too big of a jump for the first homework, where our focus is on strings and languages and writing good proofs. (It would be fine in later homeworks, after our focus has moved on to other topics.)\n",
        "\n",
        "If you're in doubt about how much detail to include, ask a TA or me, and if you ever lose points for omitting a detail that you thought was obvious, feel free to ask me to reconsider it."
      ]
    }
  ]
}