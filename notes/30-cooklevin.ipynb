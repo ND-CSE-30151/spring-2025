{
  "cells": [
    {
      "cell_type": "markdown",
      "metadata": {
        "id": "view-in-github",
        "colab_type": "text"
      },
      "source": [
        "<a href=\"https://colab.research.google.com/github/ND-CSE-30151/spring-2025/blob/main/notes/30-cooklevin.ipynb\" target=\"_parent\"><img src=\"https://colab.research.google.com/assets/colab-badge.svg\" alt=\"Open In Colab\"/></a>"
      ]
    },
    {
      "cell_type": "markdown",
      "metadata": {
        "id": "-glI2nRQGPul"
      },
      "source": [
        "# Notebook 30: The Cook-Levin Theorem"
      ]
    },
    {
      "cell_type": "code",
      "execution_count": null,
      "metadata": {
        "id": "CH1HZgneGPun",
        "cellView": "form"
      },
      "outputs": [],
      "source": [
        "#@title Setup\n",
        "!pip install -qqq tock\n",
        "!test -x /content/theory || git clone --quiet https://github.com/ND-CSE-30151/spring-2025 /content/theory\n",
        "%cd -q /content/theory/notes\n",
        "from tock import *\n",
        "from cooklevin import *\n",
        "import numpy as np\n",
        "import matplotlib.pyplot as plt"
      ]
    },
    {
      "cell_type": "markdown",
      "metadata": {
        "id": "gVw1GkshGPup"
      },
      "source": [
        "<div class=\"alert alert-info\">\n",
        "    <p><b>Read</b> Section 7.4, \"The Cook-Levin Theorem.\"</p>\n",
        "</div>    \n",
        "\n",
        "A Boolean formula is made out of variables, negation ($\\neg x$ or $\\bar x$), conjunction ($\\land$), and disjunction ($\\lor$). A formula $\\phi$ is *satisfiable* iff there is a way to assign true or false values to variables such that $\\phi$ is true.\n",
        "\n",
        "The Boolean satisfiability problem (SAT) is\n",
        "\n",
        "$$ \\{ \\phi \\mid \\text{$\\phi$ is satisfiable} \\}. $$\n",
        "\n",
        "Now we want to show that SAT is NP-complete.\n",
        "\n",
        "## The big picture\n",
        "\n",
        "This is a really long proof. I think it's helpful to first look at how it lines up with our skeleton proof.\n",
        "\n",
        "First, we have to show that SAT is in NP, which is easy. Let's get that out of the way: it's enough to say that we can check a truth-assignment for $\\phi$ in time linear in the length of $\\phi$.\n",
        "\n",
        "To show that SAT is NP-hard, we need to show that if SAT was decidable in polynomial time by a TM $R$, then, for any language $A$ in NP, we would be able to decide $A$ in polynomial time, in three steps: On input $w$,\n",
        "\n",
        "1. Convert $w$ to a Boolean formula $\\phi$.\n",
        "2. Run $R$ on $\\phi$.\n",
        "3. If $R$ accepts, *accept*; else, *reject*.\n",
        "\n",
        "So all the work is in defining a function $f$ that converts $w$ to a formula $\\phi$, showing that that $\\phi$ is satisfiable iff $w \\in A$, and showing that $f$ runs in polynomial time."
      ]
    },
    {
      "cell_type": "markdown",
      "metadata": {
        "id": "5E1i_EJWGPuq"
      },
      "source": [
        "## The medium picture\n",
        "\n",
        "Since we know that $A$ is in NP, there must be a NTM $N$ that decides it in polynomial time. That is, there is a function $t(n)$ such that for any input string $w$, $N$ accepts or rejects $w$ in at most $t(|w|)$ steps, and $t(n) \\in O(n^k)$ for some $k$. For brevity, we write $t$ instead of $t(|w|)$ below."
      ]
    },
    {
      "cell_type": "markdown",
      "source": [
        "Here's an example NTM (recognizing the language $\\{\\texttt{1}^n \\mid \\text{$n$ is composite}\\}$ and string."
      ],
      "metadata": {
        "id": "Le9kFqXAySVc"
      }
    },
    {
      "cell_type": "code",
      "execution_count": null,
      "metadata": {
        "id": "tlvfLz48GPut",
        "outputId": "c9a1727e-8dcf-40e6-8a4e-11ecc11d87ed",
        "colab": {
          "base_uri": "https://localhost:8080/",
          "height": 232
        }
      },
      "outputs": [
        {
          "output_type": "display_data",
          "data": {
            "text/plain": [
              "<IPython.core.display.SVG object>"
            ],
            "image/svg+xml": "<svg xmlns=\"http://www.w3.org/2000/svg\" xmlns:xlink=\"http://www.w3.org/1999/xlink\" width=\"834pt\" height=\"143pt\" viewBox=\"0.00 0.00 833.50 143.26\">\n<g id=\"graph0\" class=\"graph\" transform=\"scale(1 1) rotate(0) translate(4 139.26)\">\n\n<polygon fill=\"white\" stroke=\"transparent\" points=\"-4,4 -4,-139.26 829.5,-139.26 829.5,4 -4,4\"/>\n<!-- _START -->\n<g id=\"node1\" class=\"node\">\n\n</g>\n<!-- 6 -->\n<g id=\"node8\" class=\"node\">\n\n<path fill=\"none\" stroke=\"black\" d=\"M53.33,-48.26C53.33,-48.26 43.67,-48.26 43.67,-48.26 40.83,-48.26 38,-45.43 38,-42.6 38,-42.6 38,-36.93 38,-36.93 38,-34.1 40.83,-31.26 43.67,-31.26 43.67,-31.26 53.33,-31.26 53.33,-31.26 56.17,-31.26 59,-34.1 59,-36.93 59,-36.93 59,-42.6 59,-42.6 59,-45.43 56.17,-48.26 53.33,-48.26\"/>\n<text text-anchor=\"start\" x=\"42\" y=\"-37.26\" font-family=\"Monospace\" font-size=\"10.00\">q1</text>\n</g>\n<!-- _START&#45;&gt;6 -->\n<g id=\"edge1\" class=\"edge\">\n\n<path fill=\"none\" stroke=\"black\" d=\"M1.13,-39.76C2.79,-39.76 19.6,-39.76 32.5,-39.76\"/>\n<polygon fill=\"black\" stroke=\"black\" points=\"37.74,-39.76 32.74,-42.01 35.24,-39.76 32.74,-39.76 32.74,-39.76 32.74,-39.76 35.24,-39.76 32.74,-37.51 37.74,-39.76 37.74,-39.76\"/>\n</g>\n<!-- 0 -->\n<g id=\"node2\" class=\"node\">\n\n<path fill=\"none\" stroke=\"black\" d=\"M811.83,-64.26C811.83,-64.26 796.17,-64.26 796.17,-64.26 793.33,-64.26 790.5,-61.43 790.5,-58.6 790.5,-58.6 790.5,-52.93 790.5,-52.93 790.5,-50.1 793.33,-47.26 796.17,-47.26 796.17,-47.26 811.83,-47.26 811.83,-47.26 814.67,-47.26 817.5,-50.1 817.5,-52.93 817.5,-52.93 817.5,-58.6 817.5,-58.6 817.5,-61.43 814.67,-64.26 811.83,-64.26\"/>\n<text text-anchor=\"start\" x=\"794.5\" y=\"-53.26\" font-family=\"Monospace\" font-size=\"10.00\">q5x</text>\n</g>\n<!-- 0&#45;&gt;0 -->\n<g id=\"edge12\" class=\"edge\">\n\n<path fill=\"none\" stroke=\"black\" d=\"M796.25,-64.45C791.97,-72.94 794.55,-82.26 804,-82.26 811.67,-82.26 814.82,-76.11 813.43,-69.24\"/>\n<polygon fill=\"black\" stroke=\"black\" points=\"811.75,-64.45 815.53,-68.42 812.58,-66.81 813.4,-69.17 813.4,-69.17 813.4,-69.17 812.58,-66.81 811.28,-69.91 811.75,-64.45 811.75,-64.45\"/>\n<text text-anchor=\"start\" x=\"786\" y=\"-102.06\" font-family=\"Monospace\" font-size=\"9.00\">$ → $,R</text>\n<text text-anchor=\"start\" x=\"786\" y=\"-88.06\" font-family=\"Monospace\" font-size=\"9.00\">x → x,R</text>\n</g>\n<!-- 4 -->\n<g id=\"node6\" class=\"node\">\n\n<path fill=\"none\" stroke=\"black\" d=\"M575.33,-87.26C575.33,-87.26 565.67,-87.26 565.67,-87.26 562.83,-87.26 560,-84.43 560,-81.6 560,-81.6 560,-75.93 560,-75.93 560,-73.1 562.83,-70.26 565.67,-70.26 565.67,-70.26 575.33,-70.26 575.33,-70.26 578.17,-70.26 581,-73.1 581,-75.93 581,-75.93 581,-81.6 581,-81.6 581,-84.43 578.17,-87.26 575.33,-87.26\"/>\n<text text-anchor=\"start\" x=\"564\" y=\"-76.26\" font-family=\"Monospace\" font-size=\"10.00\">q6</text>\n</g>\n<!-- 0&#45;&gt;4 -->\n<g id=\"edge11\" class=\"edge\">\n\n<path fill=\"none\" stroke=\"black\" d=\"M790.37,-59.96C784.54,-61.73 777.48,-63.64 771,-64.76 702.77,-76.62 619.75,-78.5 586.41,-78.75\"/>\n<polygon fill=\"black\" stroke=\"black\" points=\"581.14,-78.78 586.12,-76.5 583.64,-78.77 586.14,-78.75 586.14,-78.75 586.14,-78.75 583.64,-78.77 586.15,-81 581.14,-78.78 581.14,-78.78\"/>\n<text text-anchor=\"start\" x=\"673.5\" y=\"-80.56\" font-family=\"Monospace\" font-size=\"9.00\">1 → x,L</text>\n</g>\n<!-- 1 -->\n<g id=\"node3\" class=\"node\">\n\n<path fill=\"none\" stroke=\"black\" d=\"M153.33,-48.26C153.33,-48.26 143.67,-48.26 143.67,-48.26 140.83,-48.26 138,-45.43 138,-42.6 138,-42.6 138,-36.93 138,-36.93 138,-34.1 140.83,-31.26 143.67,-31.26 143.67,-31.26 153.33,-31.26 153.33,-31.26 156.17,-31.26 159,-34.1 159,-36.93 159,-36.93 159,-42.6 159,-42.6 159,-45.43 156.17,-48.26 153.33,-48.26\"/>\n<text text-anchor=\"start\" x=\"142\" y=\"-37.26\" font-family=\"Monospace\" font-size=\"10.00\">q2</text>\n</g>\n<!-- 2 -->\n<g id=\"node4\" class=\"node\">\n\n<path fill=\"none\" stroke=\"black\" d=\"M253.33,-48.26C253.33,-48.26 243.67,-48.26 243.67,-48.26 240.83,-48.26 238,-45.43 238,-42.6 238,-42.6 238,-36.93 238,-36.93 238,-34.1 240.83,-31.26 243.67,-31.26 243.67,-31.26 253.33,-31.26 253.33,-31.26 256.17,-31.26 259,-34.1 259,-36.93 259,-36.93 259,-42.6 259,-42.6 259,-45.43 256.17,-48.26 253.33,-48.26\"/>\n<text text-anchor=\"start\" x=\"242\" y=\"-37.26\" font-family=\"Monospace\" font-size=\"10.00\">q3</text>\n</g>\n<!-- 1&#45;&gt;2 -->\n<g id=\"edge3\" class=\"edge\">\n\n<path fill=\"none\" stroke=\"black\" d=\"M159.25,-39.76C176.5,-39.76 212.46,-39.76 232.75,-39.76\"/>\n<polygon fill=\"black\" stroke=\"black\" points=\"237.78,-39.76 232.78,-42.01 235.28,-39.76 232.78,-39.76 232.78,-39.76 232.78,-39.76 235.28,-39.76 232.78,-37.51 237.78,-39.76 237.78,-39.76\"/>\n<text text-anchor=\"start\" x=\"180.5\" y=\"-45.56\" font-family=\"Monospace\" font-size=\"9.00\">1 → x,R</text>\n</g>\n<!-- 2&#45;&gt;2 -->\n<g id=\"edge4\" class=\"edge\">\n\n<path fill=\"none\" stroke=\"black\" d=\"M241.05,-48.45C236.93,-56.94 239.42,-66.26 248.5,-66.26 255.88,-66.26 258.9,-60.11 257.57,-53.24\"/>\n<polygon fill=\"black\" stroke=\"black\" points=\"255.95,-48.45 259.68,-52.47 256.75,-50.82 257.55,-53.19 257.55,-53.19 257.55,-53.19 256.75,-50.82 255.42,-53.91 255.95,-48.45 255.95,-48.45\"/>\n<text text-anchor=\"start\" x=\"230.5\" y=\"-72.06\" font-family=\"Monospace\" font-size=\"9.00\">1 → x,R</text>\n</g>\n<!-- 5 -->\n<g id=\"node7\" class=\"node\">\n\n<path fill=\"none\" stroke=\"black\" d=\"M353.33,-48.26C353.33,-48.26 343.67,-48.26 343.67,-48.26 340.83,-48.26 338,-45.43 338,-42.6 338,-42.6 338,-36.93 338,-36.93 338,-34.1 340.83,-31.26 343.67,-31.26 343.67,-31.26 353.33,-31.26 353.33,-31.26 356.17,-31.26 359,-34.1 359,-36.93 359,-36.93 359,-42.6 359,-42.6 359,-45.43 356.17,-48.26 353.33,-48.26\"/>\n<text text-anchor=\"start\" x=\"342\" y=\"-37.26\" font-family=\"Monospace\" font-size=\"10.00\">q4</text>\n</g>\n<!-- 2&#45;&gt;5 -->\n<g id=\"edge5\" class=\"edge\">\n\n<path fill=\"none\" stroke=\"black\" d=\"M259.25,-39.76C276.5,-39.76 312.46,-39.76 332.75,-39.76\"/>\n<polygon fill=\"black\" stroke=\"black\" points=\"337.78,-39.76 332.78,-42.01 335.28,-39.76 332.78,-39.76 332.78,-39.76 332.78,-39.76 335.28,-39.76 332.78,-37.51 337.78,-39.76 337.78,-39.76\"/>\n<text text-anchor=\"start\" x=\"280.5\" y=\"-45.56\" font-family=\"Monospace\" font-size=\"9.00\">1 → 1,L</text>\n</g>\n<!-- 3 -->\n<g id=\"node5\" class=\"node\">\n\n<path fill=\"none\" stroke=\"black\" d=\"M457.83,-48.26C457.83,-48.26 442.17,-48.26 442.17,-48.26 439.33,-48.26 436.5,-45.43 436.5,-42.6 436.5,-42.6 436.5,-36.93 436.5,-36.93 436.5,-34.1 439.33,-31.26 442.17,-31.26 442.17,-31.26 457.83,-31.26 457.83,-31.26 460.67,-31.26 463.5,-34.1 463.5,-36.93 463.5,-36.93 463.5,-42.6 463.5,-42.6 463.5,-45.43 460.67,-48.26 457.83,-48.26\"/>\n<text text-anchor=\"start\" x=\"440.5\" y=\"-37.26\" font-family=\"Monospace\" font-size=\"10.00\">q5s</text>\n</g>\n<!-- 3&#45;&gt;3 -->\n<g id=\"edge10\" class=\"edge\">\n\n<path fill=\"none\" stroke=\"black\" d=\"M442.25,-48.45C437.97,-56.94 440.55,-66.26 450,-66.26 457.67,-66.26 460.82,-60.11 459.43,-53.24\"/>\n<polygon fill=\"black\" stroke=\"black\" points=\"457.75,-48.45 461.53,-52.42 458.58,-50.81 459.4,-53.17 459.4,-53.17 459.4,-53.17 458.58,-50.81 457.28,-53.91 457.75,-48.45 457.75,-48.45\"/>\n<text text-anchor=\"start\" x=\"432\" y=\"-86.06\" font-family=\"Monospace\" font-size=\"9.00\">$ → $,R</text>\n<text text-anchor=\"start\" x=\"432\" y=\"-72.06\" font-family=\"Monospace\" font-size=\"9.00\">x → x,R</text>\n</g>\n<!-- 3&#45;&gt;4 -->\n<g id=\"edge9\" class=\"edge\">\n\n<path fill=\"none\" stroke=\"black\" d=\"M463.75,-47.44C469.48,-50.65 476.43,-54.22 483,-56.76 507.5,-66.23 537.47,-72.8 554.93,-76.17\"/>\n<polygon fill=\"black\" stroke=\"black\" points=\"559.93,-77.11 554.6,-78.39 557.47,-76.64 555.01,-76.18 555.01,-76.18 555.01,-76.18 557.47,-76.64 555.43,-73.97 559.93,-77.11 559.93,-77.11\"/>\n<text text-anchor=\"start\" x=\"486.5\" y=\"-74.56\" font-family=\"Monospace\" font-size=\"9.00\">1 → $,L</text>\n</g>\n<!-- 7 -->\n<g id=\"node9\" class=\"node\">\n\n<path fill=\"none\" stroke=\"black\" d=\"M587.33,-48.26C587.33,-48.26 553.67,-48.26 553.67,-48.26 550.83,-48.26 548,-45.43 548,-42.6 548,-42.6 548,-36.93 548,-36.93 548,-34.1 550.83,-31.26 553.67,-31.26 553.67,-31.26 587.33,-31.26 587.33,-31.26 590.17,-31.26 593,-34.1 593,-36.93 593,-36.93 593,-42.6 593,-42.6 593,-45.43 590.17,-48.26 587.33,-48.26\"/>\n<path fill=\"none\" stroke=\"black\" d=\"M588.67,-52.26C588.67,-52.26 552.33,-52.26 552.33,-52.26 548.17,-52.26 544,-48.1 544,-43.93 544,-43.93 544,-35.6 544,-35.6 544,-31.43 548.17,-27.26 552.33,-27.26 552.33,-27.26 588.67,-27.26 588.67,-27.26 592.83,-27.26 597,-31.43 597,-35.6 597,-35.6 597,-43.93 597,-43.93 597,-48.1 592.83,-52.26 588.67,-52.26\"/>\n<text text-anchor=\"start\" x=\"552\" y=\"-37.26\" font-family=\"Monospace\" font-size=\"10.00\">accept</text>\n</g>\n<!-- 3&#45;&gt;7 -->\n<g id=\"edge8\" class=\"edge\">\n\n<path fill=\"none\" stroke=\"black\" d=\"M463.68,-39.76C481.41,-39.76 514.16,-39.76 538.54,-39.76\"/>\n<polygon fill=\"black\" stroke=\"black\" points=\"543.61,-39.76 538.61,-42.01 541.11,-39.76 538.61,-39.76 538.61,-39.76 538.61,-39.76 541.11,-39.76 538.61,-37.51 543.61,-39.76 543.61,-39.76\"/>\n<text text-anchor=\"start\" x=\"489.5\" y=\"-45.56\" font-family=\"Monospace\" font-size=\"9.00\">␣ → ␣,L</text>\n</g>\n<!-- 4&#45;&gt;4 -->\n<g id=\"edge14\" class=\"edge\">\n\n<path fill=\"none\" stroke=\"black\" d=\"M561.26,-87.45C556.16,-95.94 559.24,-105.26 570.5,-105.26 579.65,-105.26 583.4,-99.11 581.75,-92.24\"/>\n<polygon fill=\"black\" stroke=\"black\" points=\"579.74,-87.45 583.74,-91.19 580.7,-89.76 581.67,-92.06 581.67,-92.06 581.67,-92.06 580.7,-89.76 579.59,-92.93 579.74,-87.45 579.74,-87.45\"/>\n<text text-anchor=\"start\" x=\"552.5\" y=\"-125.06\" font-family=\"Monospace\" font-size=\"9.00\">$ → $,L</text>\n<text text-anchor=\"start\" x=\"552.5\" y=\"-111.06\" font-family=\"Monospace\" font-size=\"9.00\">x → x,L</text>\n</g>\n<!-- 8 -->\n<g id=\"node10\" class=\"node\">\n\n<path fill=\"none\" stroke=\"black\" d=\"M696.33,-42.26C696.33,-42.26 686.67,-42.26 686.67,-42.26 683.83,-42.26 681,-39.43 681,-36.6 681,-36.6 681,-30.93 681,-30.93 681,-28.1 683.83,-25.26 686.67,-25.26 686.67,-25.26 696.33,-25.26 696.33,-25.26 699.17,-25.26 702,-28.1 702,-30.93 702,-30.93 702,-36.6 702,-36.6 702,-39.43 699.17,-42.26 696.33,-42.26\"/>\n<text text-anchor=\"start\" x=\"685\" y=\"-31.26\" font-family=\"Monospace\" font-size=\"10.00\">q7</text>\n</g>\n<!-- 4&#45;&gt;8 -->\n<g id=\"edge13\" class=\"edge\">\n\n<path fill=\"none\" stroke=\"black\" d=\"M581,-72.55C585.82,-69.37 591.75,-65.4 597,-61.76 605.11,-56.14 605.95,-52.7 615,-48.76 634.86,-40.11 659.84,-36.4 675.49,-34.85\"/>\n<polygon fill=\"black\" stroke=\"black\" points=\"680.81,-34.36 676.03,-37.06 678.32,-34.59 675.83,-34.81 675.83,-34.81 675.83,-34.81 678.32,-34.59 675.63,-32.57 680.81,-34.36 680.81,-34.36\"/>\n<text text-anchor=\"start\" x=\"618.5\" y=\"-54.56\" font-family=\"Monospace\" font-size=\"9.00\">␣ → ␣,R</text>\n</g>\n<!-- 5&#45;&gt;3 -->\n<g id=\"edge6\" class=\"edge\">\n\n<path fill=\"none\" stroke=\"black\" d=\"M359.04,-39.76C375.63,-39.76 410.04,-39.76 431.17,-39.76\"/>\n<polygon fill=\"black\" stroke=\"black\" points=\"436.23,-39.76 431.23,-42.01 433.73,-39.76 431.23,-39.76 431.23,-39.76 431.23,-39.76 433.73,-39.76 431.23,-37.51 436.23,-39.76 436.23,-39.76\"/>\n<text text-anchor=\"start\" x=\"380\" y=\"-45.56\" font-family=\"Monospace\" font-size=\"9.00\">$ → ␣,R</text>\n</g>\n<!-- 5&#45;&gt;5 -->\n<g id=\"edge7\" class=\"edge\">\n\n<path fill=\"none\" stroke=\"black\" d=\"M341.35,-48.45C337.4,-56.94 339.78,-66.26 348.5,-66.26 355.58,-66.26 358.49,-60.11 357.21,-53.24\"/>\n<polygon fill=\"black\" stroke=\"black\" points=\"355.65,-48.45 359.33,-52.51 356.42,-50.83 357.19,-53.21 357.19,-53.21 357.19,-53.21 356.42,-50.83 355.05,-53.9 355.65,-48.45 355.65,-48.45\"/>\n<text text-anchor=\"start\" x=\"330.5\" y=\"-72.06\" font-family=\"Monospace\" font-size=\"9.00\">x → x,L</text>\n</g>\n<!-- 6&#45;&gt;1 -->\n<g id=\"edge2\" class=\"edge\">\n\n<path fill=\"none\" stroke=\"black\" d=\"M59.25,-39.76C76.5,-39.76 112.46,-39.76 132.75,-39.76\"/>\n<polygon fill=\"black\" stroke=\"black\" points=\"137.78,-39.76 132.78,-42.01 135.28,-39.76 132.78,-39.76 132.78,-39.76 132.78,-39.76 135.28,-39.76 132.78,-37.51 137.78,-39.76 137.78,-39.76\"/>\n<text text-anchor=\"start\" x=\"80.5\" y=\"-45.56\" font-family=\"Monospace\" font-size=\"9.00\">1 → $,R</text>\n</g>\n<!-- 8&#45;&gt;0 -->\n<g id=\"edge16\" class=\"edge\">\n\n<path fill=\"none\" stroke=\"black\" d=\"M702.18,-35.53C717.02,-38.25 746.26,-43.69 771,-48.76 775.56,-49.7 780.49,-50.75 785.07,-51.75\"/>\n<polygon fill=\"black\" stroke=\"black\" points=\"790.25,-52.89 784.88,-54.02 787.81,-52.36 785.36,-51.82 785.36,-51.82 785.36,-51.82 787.81,-52.36 785.85,-49.62 790.25,-52.89 790.25,-52.89\"/>\n<text text-anchor=\"start\" x=\"734\" y=\"-54.56\" font-family=\"Monospace\" font-size=\"9.00\">x → ␣,R</text>\n</g>\n<!-- 8&#45;&gt;3 -->\n<g id=\"edge15\" class=\"edge\">\n\n<path fill=\"none\" stroke=\"black\" d=\"M680.93,-29.05C657.58,-18.14 595.83,7.17 544,-2.76 516.54,-8.02 486.87,-21.28 468.61,-30.41\"/>\n<polygon fill=\"black\" stroke=\"black\" points=\"463.77,-32.87 467.21,-28.6 466,-31.74 468.23,-30.6 468.23,-30.6 468.23,-30.6 466,-31.74 469.25,-32.61 463.77,-32.87 463.77,-32.87\"/>\n<text text-anchor=\"start\" x=\"553.5\" y=\"-8.56\" font-family=\"Monospace\" font-size=\"9.00\">$ → ␣,R</text>\n</g>\n</g>\n</svg>"
          },
          "metadata": {}
        }
      ],
      "source": [
        "m = read_csv(\"ntm-primes.csv\")\n",
        "m"
      ]
    },
    {
      "cell_type": "code",
      "source": [
        "w = [\"1\"]*4"
      ],
      "metadata": {
        "id": "xNNU9iWsyl8n"
      },
      "execution_count": null,
      "outputs": []
    },
    {
      "cell_type": "markdown",
      "source": [
        "Since this is an NTM, it could have many possible accepting paths. Here's one of them:"
      ],
      "metadata": {
        "id": "Qvi_l7z4zA2k"
      }
    },
    {
      "cell_type": "code",
      "execution_count": null,
      "metadata": {
        "id": "lzu0Unv4GPuv",
        "outputId": "34fc419f-bdc2-4025-c743-8d9f9b17783d",
        "colab": {
          "base_uri": "https://localhost:8080/",
          "height": 426
        }
      },
      "outputs": [
        {
          "output_type": "execute_result",
          "data": {
            "text/plain": [
              "<tock.graphs.Path at 0x7d4a12183f10>"
            ],
            "text/html": [
              "<table style=\"font-family: Monospace, monospace;\">\n",
              "  <tr><td style=\"text-align: left\">q1</td><td style=\"text-align: left\">[1] 1 1 1</td></tr>\n",
              "  <tr><td style=\"text-align: left\">q2</td><td style=\"text-align: left\">$ [1] 1 1</td></tr>\n",
              "  <tr><td style=\"text-align: left\">q3</td><td style=\"text-align: left\">$ x [1] 1</td></tr>\n",
              "  <tr><td style=\"text-align: left\">q4</td><td style=\"text-align: left\">$ [x] 1 1</td></tr>\n",
              "  <tr><td style=\"text-align: left\">q4</td><td style=\"text-align: left\">[$] x 1 1</td></tr>\n",
              "  <tr><td style=\"text-align: left\">q5s</td><td style=\"text-align: left\">␣ [x] 1 1</td></tr>\n",
              "  <tr><td style=\"text-align: left\">q5s</td><td style=\"text-align: left\">␣ x [1] 1</td></tr>\n",
              "  <tr><td style=\"text-align: left\">q6</td><td style=\"text-align: left\">␣ [x] $ 1</td></tr>\n",
              "  <tr><td style=\"text-align: left\">q6</td><td style=\"text-align: left\">[␣] x $ 1</td></tr>\n",
              "  <tr><td style=\"text-align: left\">q7</td><td style=\"text-align: left\">␣ [x] $ 1</td></tr>\n",
              "  <tr><td style=\"text-align: left\">q5x</td><td style=\"text-align: left\">␣ ␣ [$] 1</td></tr>\n",
              "  <tr><td style=\"text-align: left\">q5x</td><td style=\"text-align: left\">␣ ␣ $ [1]</td></tr>\n",
              "  <tr><td style=\"text-align: left\">q6</td><td style=\"text-align: left\">␣ ␣ [$] x</td></tr>\n",
              "  <tr><td style=\"text-align: left\">q6</td><td style=\"text-align: left\">␣ [␣] $ x</td></tr>\n",
              "  <tr><td style=\"text-align: left\">q7</td><td style=\"text-align: left\">␣ ␣ [$] x</td></tr>\n",
              "  <tr><td style=\"text-align: left\">q5s</td><td style=\"text-align: left\">␣ ␣ ␣ [x]</td></tr>\n",
              "  <tr><td style=\"text-align: left\">q5s</td><td style=\"text-align: left\">␣ ␣ ␣ x [␣]</td></tr>\n",
              "  <tr><td style=\"text-align: left\">accept</td><td style=\"text-align: left\">␣ ␣ ␣ [x] ␣</td></tr>\n",
              "</table>\n",
              "<p>accept</p>"
            ]
          },
          "metadata": {},
          "execution_count": 27
        }
      ],
      "source": [
        "path = run(m, w).shortest_path()\n",
        "path"
      ]
    },
    {
      "cell_type": "markdown",
      "metadata": {
        "id": "Oacfz_1qGPuw"
      },
      "source": [
        "The running time of this NTM actually isn't bad. In theory, it runs in $O(n^{3/2})$ time."
      ]
    },
    {
      "cell_type": "code",
      "execution_count": null,
      "metadata": {
        "id": "rGZR0RDGGPuw",
        "outputId": "33142329-1ce4-42cd-ef5b-669b0a24e92b",
        "colab": {
          "base_uri": "https://localhost:8080/",
          "height": 449
        }
      },
      "outputs": [
        {
          "output_type": "display_data",
          "data": {
            "text/plain": [
              "<Figure size 640x480 with 1 Axes>"
            ],
            "image/png": "[encoded data removed]"
          },
          "metadata": {}
        }
      ],
      "source": [
        "# Plot n, actual running time, upper bound on running time\n",
        "lens = []\n",
        "times = []\n",
        "bounds = []\n",
        "for n in range(30):\n",
        "    r = run(m, [\"1\"] * n)\n",
        "    if r.has_path():\n",
        "        lens.append(n)\n",
        "        times.append(len(r.shortest_path()))\n",
        "        bounds.append(3*n**(3/2))\n",
        "plt.plot(lens, times, label=\"time\")\n",
        "plt.plot(lens, bounds, label=\"upper bound\")\n",
        "plt.xlabel(\"string length\")\n",
        "plt.ylabel(\"steps\")\n",
        "plt.legend()\n",
        "plt.show()"
      ]
    },
    {
      "cell_type": "markdown",
      "source": [
        "Given $N$, $t$, and $w$, can can construct a *tableau*, which is a two-dimensional representation of a computation history for $N$ on $w$. The first row is the start configuration, and the following rows are the steps of the run. Each row is delimited by # on the left and right. Finally, if $N$ halts, the last configuration is repeated until the bottom of the tableau (this detail is missing from the book, but something like it seems necessary).\n",
        "\n",
        "Because we only need to simulate $N$ up to $t$ steps, we can fix the size of the tableau in terms of $t$. There are $t+1$ rows: one row for the start configuration, plus one row for each step. And there are $t+4$ columns, because in $t$ steps, the head could move as far right as the $(t+1)st$ cell, plus one for the state, plus two for the #'s.\n"
      ],
      "metadata": {
        "id": "urhTW0YJ0LNJ"
      }
    },
    {
      "cell_type": "code",
      "source": [
        "make_tableau(path, 20)"
      ],
      "metadata": {
        "colab": {
          "base_uri": "https://localhost:8080/",
          "height": 732
        },
        "id": "9RhjkUZyzN4T",
        "outputId": "64f092ad-6b83-4eca-9525-7781f7e27ffb"
      },
      "execution_count": null,
      "outputs": [
        {
          "output_type": "execute_result",
          "data": {
            "text/plain": [
              "<cooklevin.Tableau at 0x7d4a7c1cc190>"
            ],
            "text/html": [
              "\n",
              "        <style>\n",
              "        table { font-family: monospace; border-collapse: collapse; }\n",
              "        td { border: 1px solid #999999; padding: 0.5rem; text-align: center; }\n",
              "        </style>\n",
              "        <table>  <tr>    <td>#</td>    <td>q1</td>    <td>1</td>    <td>1</td>    <td>1</td>    <td>1</td>    <td>␣</td>    <td>␣</td>    <td>␣</td>    <td>␣</td>    <td>␣</td>    <td>␣</td>    <td>␣</td>    <td>␣</td>    <td>␣</td>    <td>␣</td>    <td>␣</td>    <td>␣</td>    <td>␣</td>    <td>␣</td>    <td>␣</td>    <td>␣</td>    <td>␣</td>    <td>#</td>  </tr>  <tr>    <td>#</td>    <td>$</td>    <td>q2</td>    <td>1</td>    <td>1</td>    <td>1</td>    <td>␣</td>    <td>␣</td>    <td>␣</td>    <td>␣</td>    <td>␣</td>    <td>␣</td>    <td>␣</td>    <td>␣</td>    <td>␣</td>    <td>␣</td>    <td>␣</td>    <td>␣</td>    <td>␣</td>    <td>␣</td>    <td>␣</td>    <td>␣</td>    <td>␣</td>    <td>#</td>  </tr>  <tr>    <td>#</td>    <td>$</td>    <td>x</td>    <td>q3</td>    <td>1</td>    <td>1</td>    <td>␣</td>    <td>␣</td>    <td>␣</td>    <td>␣</td>    <td>␣</td>    <td>␣</td>    <td>␣</td>    <td>␣</td>    <td>␣</td>    <td>␣</td>    <td>␣</td>    <td>␣</td>    <td>␣</td>    <td>␣</td>    <td>␣</td>    <td>␣</td>    <td>␣</td>    <td>#</td>  </tr>  <tr>    <td>#</td>    <td>$</td>    <td>q4</td>    <td>x</td>    <td>1</td>    <td>1</td>    <td>␣</td>    <td>␣</td>    <td>␣</td>    <td>␣</td>    <td>␣</td>    <td>␣</td>    <td>␣</td>    <td>␣</td>    <td>␣</td>    <td>␣</td>    <td>␣</td>    <td>␣</td>    <td>␣</td>    <td>␣</td>    <td>␣</td>    <td>␣</td>    <td>␣</td>    <td>#</td>  </tr>  <tr>    <td>#</td>    <td>q4</td>    <td>$</td>    <td>x</td>    <td>1</td>    <td>1</td>    <td>␣</td>    <td>␣</td>    <td>␣</td>    <td>␣</td>    <td>␣</td>    <td>␣</td>    <td>␣</td>    <td>␣</td>    <td>␣</td>    <td>␣</td>    <td>␣</td>    <td>␣</td>    <td>␣</td>    <td>␣</td>    <td>␣</td>    <td>␣</td>    <td>␣</td>    <td>#</td>  </tr>  <tr>    <td>#</td>    <td>␣</td>    <td>q5s</td>    <td>x</td>    <td>1</td>    <td>1</td>    <td>␣</td>    <td>␣</td>    <td>␣</td>    <td>␣</td>    <td>␣</td>    <td>␣</td>    <td>␣</td>    <td>␣</td>    <td>␣</td>    <td>␣</td>    <td>␣</td>    <td>␣</td>    <td>␣</td>    <td>␣</td>    <td>␣</td>    <td>␣</td>    <td>␣</td>    <td>#</td>  </tr>  <tr>    <td>#</td>    <td>␣</td>    <td>x</td>    <td>q5s</td>    <td>1</td>    <td>1</td>    <td>␣</td>    <td>␣</td>    <td>␣</td>    <td>␣</td>    <td>␣</td>    <td>␣</td>    <td>␣</td>    <td>␣</td>    <td>␣</td>    <td>␣</td>    <td>␣</td>    <td>␣</td>    <td>␣</td>    <td>␣</td>    <td>␣</td>    <td>␣</td>    <td>␣</td>    <td>#</td>  </tr>  <tr>    <td>#</td>    <td>␣</td>    <td>q6</td>    <td>x</td>    <td>$</td>    <td>1</td>    <td>␣</td>    <td>␣</td>    <td>␣</td>    <td>␣</td>    <td>␣</td>    <td>␣</td>    <td>␣</td>    <td>␣</td>    <td>␣</td>    <td>␣</td>    <td>␣</td>    <td>␣</td>    <td>␣</td>    <td>␣</td>    <td>␣</td>    <td>␣</td>    <td>␣</td>    <td>#</td>  </tr>  <tr>    <td>#</td>    <td>q6</td>    <td>␣</td>    <td>x</td>    <td>$</td>    <td>1</td>    <td>␣</td>    <td>␣</td>    <td>␣</td>    <td>␣</td>    <td>␣</td>    <td>␣</td>    <td>␣</td>    <td>␣</td>    <td>␣</td>    <td>␣</td>    <td>␣</td>    <td>␣</td>    <td>␣</td>    <td>␣</td>    <td>␣</td>    <td>␣</td>    <td>␣</td>    <td>#</td>  </tr>  <tr>    <td>#</td>    <td>␣</td>    <td>q7</td>    <td>x</td>    <td>$</td>    <td>1</td>    <td>␣</td>    <td>␣</td>    <td>␣</td>    <td>␣</td>    <td>␣</td>    <td>␣</td>    <td>␣</td>    <td>␣</td>    <td>␣</td>    <td>␣</td>    <td>␣</td>    <td>␣</td>    <td>␣</td>    <td>␣</td>    <td>␣</td>    <td>␣</td>    <td>␣</td>    <td>#</td>  </tr>  <tr>    <td>#</td>    <td>␣</td>    <td>␣</td>    <td>q5x</td>    <td>$</td>    <td>1</td>    <td>␣</td>    <td>␣</td>    <td>␣</td>    <td>␣</td>    <td>␣</td>    <td>␣</td>    <td>␣</td>    <td>␣</td>    <td>␣</td>    <td>␣</td>    <td>␣</td>    <td>␣</td>    <td>␣</td>    <td>␣</td>    <td>␣</td>    <td>␣</td>    <td>␣</td>    <td>#</td>  </tr>  <tr>    <td>#</td>    <td>␣</td>    <td>␣</td>    <td>$</td>    <td>q5x</td>    <td>1</td>    <td>␣</td>    <td>␣</td>    <td>␣</td>    <td>␣</td>    <td>␣</td>    <td>␣</td>    <td>␣</td>    <td>␣</td>    <td>␣</td>    <td>␣</td>    <td>␣</td>    <td>␣</td>    <td>␣</td>    <td>␣</td>    <td>␣</td>    <td>␣</td>    <td>␣</td>    <td>#</td>  </tr>  <tr>    <td>#</td>    <td>␣</td>    <td>␣</td>    <td>q6</td>    <td>$</td>    <td>x</td>    <td>␣</td>    <td>␣</td>    <td>␣</td>    <td>␣</td>    <td>␣</td>    <td>␣</td>    <td>␣</td>    <td>␣</td>    <td>␣</td>    <td>␣</td>    <td>␣</td>    <td>␣</td>    <td>␣</td>    <td>␣</td>    <td>␣</td>    <td>␣</td>    <td>␣</td>    <td>#</td>  </tr>  <tr>    <td>#</td>    <td>␣</td>    <td>q6</td>    <td>␣</td>    <td>$</td>    <td>x</td>    <td>␣</td>    <td>␣</td>    <td>␣</td>    <td>␣</td>    <td>␣</td>    <td>␣</td>    <td>␣</td>    <td>␣</td>    <td>␣</td>    <td>␣</td>    <td>␣</td>    <td>␣</td>    <td>␣</td>    <td>␣</td>    <td>␣</td>    <td>␣</td>    <td>␣</td>    <td>#</td>  </tr>  <tr>    <td>#</td>    <td>␣</td>    <td>␣</td>    <td>q7</td>    <td>$</td>    <td>x</td>    <td>␣</td>    <td>␣</td>    <td>␣</td>    <td>␣</td>    <td>␣</td>    <td>␣</td>    <td>␣</td>    <td>␣</td>    <td>␣</td>    <td>␣</td>    <td>␣</td>    <td>␣</td>    <td>␣</td>    <td>␣</td>    <td>␣</td>    <td>␣</td>    <td>␣</td>    <td>#</td>  </tr>  <tr>    <td>#</td>    <td>␣</td>    <td>␣</td>    <td>␣</td>    <td>q5s</td>    <td>x</td>    <td>␣</td>    <td>␣</td>    <td>␣</td>    <td>␣</td>    <td>␣</td>    <td>␣</td>    <td>␣</td>    <td>␣</td>    <td>␣</td>    <td>␣</td>    <td>␣</td>    <td>␣</td>    <td>␣</td>    <td>␣</td>    <td>␣</td>    <td>␣</td>    <td>␣</td>    <td>#</td>  </tr>  <tr>    <td>#</td>    <td>␣</td>    <td>␣</td>    <td>␣</td>    <td>x</td>    <td>q5s</td>    <td>␣</td>    <td>␣</td>    <td>␣</td>    <td>␣</td>    <td>␣</td>    <td>␣</td>    <td>␣</td>    <td>␣</td>    <td>␣</td>    <td>␣</td>    <td>␣</td>    <td>␣</td>    <td>␣</td>    <td>␣</td>    <td>␣</td>    <td>␣</td>    <td>␣</td>    <td>#</td>  </tr>  <tr>    <td>#</td>    <td>␣</td>    <td>␣</td>    <td>␣</td>    <td>accept</td>    <td>x</td>    <td>␣</td>    <td>␣</td>    <td>␣</td>    <td>␣</td>    <td>␣</td>    <td>␣</td>    <td>␣</td>    <td>␣</td>    <td>␣</td>    <td>␣</td>    <td>␣</td>    <td>␣</td>    <td>␣</td>    <td>␣</td>    <td>␣</td>    <td>␣</td>    <td>␣</td>    <td>#</td>  </tr>  <tr>    <td>#</td>    <td>␣</td>    <td>␣</td>    <td>␣</td>    <td>accept</td>    <td>x</td>    <td>␣</td>    <td>␣</td>    <td>␣</td>    <td>␣</td>    <td>␣</td>    <td>␣</td>    <td>␣</td>    <td>␣</td>    <td>␣</td>    <td>␣</td>    <td>␣</td>    <td>␣</td>    <td>␣</td>    <td>␣</td>    <td>␣</td>    <td>␣</td>    <td>␣</td>    <td>#</td>  </tr>  <tr>    <td>#</td>    <td>␣</td>    <td>␣</td>    <td>␣</td>    <td>accept</td>    <td>x</td>    <td>␣</td>    <td>␣</td>    <td>␣</td>    <td>␣</td>    <td>␣</td>    <td>␣</td>    <td>␣</td>    <td>␣</td>    <td>␣</td>    <td>␣</td>    <td>␣</td>    <td>␣</td>    <td>␣</td>    <td>␣</td>    <td>␣</td>    <td>␣</td>    <td>␣</td>    <td>#</td>  </tr>  <tr>    <td>#</td>    <td>␣</td>    <td>␣</td>    <td>␣</td>    <td>accept</td>    <td>x</td>    <td>␣</td>    <td>␣</td>    <td>␣</td>    <td>␣</td>    <td>␣</td>    <td>␣</td>    <td>␣</td>    <td>␣</td>    <td>␣</td>    <td>␣</td>    <td>␣</td>    <td>␣</td>    <td>␣</td>    <td>␣</td>    <td>␣</td>    <td>␣</td>    <td>␣</td>    <td>#</td>  </tr></table>"
            ]
          },
          "metadata": {},
          "execution_count": 5
        }
      ]
    },
    {
      "cell_type": "markdown",
      "source": [
        "## The details\n",
        "\n",
        "We need to write a giant formula $\\phi$ that checks whether the tableau is an accepting computation history for $N$ on $w$. The variables of this formula are $x_{i,j,s}$, where $i$ is a row number, $j$ is a column number, and $s$ is either a tape symbol or a state. If $x_{i,j,s}$ is true, that means that cell $i,j$ contains symbol $s$. It's $\\phi$'s job to check that a truth-assignment encodes a well-formed, accepting tableau.\n",
        "\n",
        "The formula $\\phi$ has four parts: $\\phi = \\phi_{\\mathrm{cell}} \\land \\phi_{\\mathrm{start}} \\land \\phi_{\\mathrm{move}} \\land \\phi_{\\mathrm{accept}}$. The purpose of these four parts is:\n",
        "\n",
        "- $\\phi_{\\mathrm{cell}}$: Each cell contains exactly one symbol.\n",
        "- $\\phi_{\\mathrm{start}}$: The first row of the tableau is the initial configuration of $N$.\n",
        "- $\\phi_{\\mathrm{move}}$: Each row (except the first) is a configuration that legally follows the row above it according to $N$'s rules.\n",
        "- $\\phi_{\\mathrm{accept}}$: The last row is an accepting configuration."
      ],
      "metadata": {
        "id": "3gW2EZV9bnt5"
      }
    },
    {
      "cell_type": "markdown",
      "metadata": {
        "id": "L6svMaeyGPuq"
      },
      "source": [
        "### Every cell has exactly one symbol\n",
        "\n",
        "Let $C = Q \\cup \\Gamma \\cup \\{\\#\\}$, the set of all possible symbols in a tableau cell. We ensure that every cell has exactly one symbol with the subformula:\n",
        "\n",
        "\\begin{align*}\n",
        "\\phi_{\\text{cell}} = \\bigwedge_{1 \\leq i \\leq t+1} \\bigwedge_{1 \\leq j \\leq t+4} &\\bigg[ && \\text{for each cell,} \\\\\n",
        "& \\bigvee_{s \\in C}  x_{i,j,s} \\land {} && \\text{each cell has at least one symbol} \\\\\n",
        "& \\bigwedge_{s,s' \\in C, s \\neq s'} \\neg (x_{i,j,s} \\land x_{i,j,s'}) && \\text{and no cell has two symbols} \\\\\n",
        "&\\bigg]\n",
        "\\end{align*}"
      ]
    },
    {
      "cell_type": "markdown",
      "metadata": {
        "id": "WDm5IEu3GPur"
      },
      "source": [
        "### The first row is a start configuration\n",
        "\n",
        "\\begin{align*}\n",
        "\\phi_{\\text{start}} = & x_{1,1,\\#} \\land {} && \\text{left boundary} \\\\\n",
        "                      & x_{1,2,q_0} \\land{} && \\text{start state} \\\\\n",
        "                      & \\bigwedge_{1 \\leq i \\leq n} x_{1,i+2,w_i} \\land{} && \\text{input string} \\\\\n",
        "                      & \\bigwedge_{n+1 \\leq i \\leq t+1} x_{1,i+2,\\_} \\land{} && \\text{blank symbols} \\\\\n",
        "                      & x_{1,t+4,\\#} && \\text{right boundary}\n",
        "\\end{align*}"
      ]
    },
    {
      "cell_type": "markdown",
      "metadata": {
        "id": "aVWWZqw7GPur"
      },
      "source": [
        "### Each row (except the first) follows from the previous row\n",
        "\n",
        "This is the most complicated part of the formula.\n",
        "\n",
        "\\begin{align*}\n",
        "\\phi_{\\text{move}} = \\bigwedge_{1 \\leq i \\leq t} \\bigwedge_{2 \\leq j \\leq t+3} &\\bigg[ && \\text{for each $2\\times3$ window} \\\\\n",
        "& \\bigvee_{\\text{$a_1, \\ldots, a_6$ is a legal window}} x_{i,j-1,a_1} \\land x_{i,j,a_2} \\land x_{i,j+1,a_3} \\land x_{i+1,j-1,a_4} \\land x_{i+1,j,a_5} \\land x_{i+1,j+1,a_6} && \\text{the window is legal} \\\\\n",
        "&\\bigg]\n",
        "\\end{align*}\n",
        "\n",
        "The book just gives a few examples of legal windows (Figure 7.39) but doesn't list them all out. If you like details to be completely worked out, here they are.\n",
        "\n",
        "This is a legal window:\n",
        "\n",
        "```\n",
        "abc\n",
        "abc\n",
        "```\n",
        "\n",
        "where a, b, and c are tape symbols, #, or $q_{\\text{accept}}$.\n",
        "\n",
        "Recall that if there is a transition $q \\xrightarrow{b \\rightarrow c, \\text{L}} r$, then the configuration $uaqbv$ yields configuration $uracv$, where $u$ and $v$ are strings of tape symbols. So the following are all legal windows:\n",
        "\n",
        "```\n",
        "xya  yaq  aqb  qbx  bxy\n",
        "xyr  yra  rac  acx  cxy\n",
        "```\n",
        "\n",
        "where $x$ and $y$ are any tape symbols or #.\n",
        "\n",
        "A special case is when the head is at the left end of the tape and tries to move left ($qbv$ becomes $rcv$).\n",
        "\n",
        "```\n",
        "#qb  qbx\n",
        "#rc  rcx\n",
        "```\n",
        "\n",
        "Similarly, if there is a transition $q \\xrightarrow{b \\rightarrow c, \\text{R}} r$, then the configuration $uaqbv$ yields configuration $uacrv$. So the following are all legal windows:\n",
        "\n",
        "```\n",
        "yaq  aqb  qbx  bxy\n",
        "yac  acr  crx  rxy\n",
        "```\n",
        "\n",
        "where $x$ and $y$ are any tape symbols or #.\n",
        "\n",
        "These 12 cases cover all possibilities -- nothing else is a legal window."
      ]
    },
    {
      "cell_type": "markdown",
      "metadata": {
        "id": "imeVvN8FGPus"
      },
      "source": [
        "### The last row is an accepting configuration\n",
        "\n",
        "$$\\phi_{\\text{accept}} = \\bigvee_{2 \\leq j \\leq t+2} x_{t+1,j,q_{\\text{accept}}} $$"
      ]
    },
    {
      "cell_type": "markdown",
      "metadata": {
        "id": "joaKfbSMGPux"
      },
      "source": [
        "That completes the construction of the formula. An analysis of the construction shows that it runs in polynomial time, which completes the proof that SAT is NP-complete."
      ]
    },
    {
      "cell_type": "markdown",
      "source": [
        "## Example\n",
        "\n",
        "Here's the formula corresponding to the run of this machine on `1111`:"
      ],
      "metadata": {
        "id": "6u5vYxqxQOYU"
      }
    },
    {
      "cell_type": "code",
      "execution_count": null,
      "metadata": {
        "id": "oN6t4qSaGPuy",
        "outputId": "80cd7f31-85a8-47af-b0a1-61afb453b536",
        "colab": {
          "base_uri": "https://localhost:8080/"
        }
      },
      "outputs": [
        {
          "output_type": "stream",
          "name": "stdout",
          "text": [
            "(x[0,0,q4] ∨ x[0,0,␣] ∨ x[0,0,q6] ∨ x[0,0,1] ∨ x[0,0,x] ∨ ...) ∧ (¬x[0,0,q4] ∨ ¬x[0,0,␣]) ∧ (¬x[0,0,q4] ∨ ¬x[0,0,q6]) ∧ (¬x[0,0,q4] ∨ ¬x[0,0,1]) ∧ (¬x[0,0,q4] ∨ ¬x[0,0,x]) ∧ ...\n",
            "10282955\n"
          ]
        }
      ],
      "source": [
        "phi = make_formula(m, w, 24)\n",
        "print(phi.pretty()) # abbreviated version of phi\n",
        "print(phi.size()) # number of variables and operators in phi"
      ]
    },
    {
      "cell_type": "markdown",
      "source": [
        "We can also plot the formula size as a function of input length, on a log-log scale. If it's polynomial, as it should be, then it should look linear:"
      ],
      "metadata": {
        "id": "j9eIgAE4_p4x"
      }
    },
    {
      "cell_type": "code",
      "source": [
        "lens = list(range(5))\n",
        "sizes = []\n",
        "for n in lens:\n",
        "    phi = make_formula(m, [\"1\"]*n, int(round(3*n**1.5)))\n",
        "    sizes.append(phi.size())\n",
        "plt.loglog(lens, sizes)\n",
        "plt.xlabel(\"string length\")\n",
        "plt.ylabel(\"formula size\")\n",
        "plt.show()"
      ],
      "metadata": {
        "colab": {
          "base_uri": "https://localhost:8080/",
          "height": 454
        },
        "id": "m8nf2bfy8z5Q",
        "outputId": "3f361ffb-fa12-424c-8b90-ccbe00505ab4"
      },
      "execution_count": null,
      "outputs": [
        {
          "output_type": "display_data",
          "data": {
            "text/plain": [
              "<Figure size 640x480 with 1 Axes>"
            ],
            "image/png": "[encoded data removed]"
          },
          "metadata": {}
        }
      ]
    },
    {
      "cell_type": "markdown",
      "metadata": {
        "id": "FFgfal0eGPu0"
      },
      "source": [
        "## Modifications for 3SAT\n",
        "\n",
        "To prove that 3SAT is NP-complete, the last step is to modify the above proof so that $\\phi$ is in 3CNF, that is, of the form\n",
        "\n",
        "\\begin{align*}\n",
        "\\phi &= (a_1 \\lor b_1 \\lor c_1) \\land \\ldots \\land (a_m \\lor b_m \\lor c_m). \\\\\n",
        "\\end{align*}\n",
        "\n",
        "There are $l$ variables, named $x_1, \\ldots, x_l$. Each of the conjuncts $(a_j \\lor b_j \\lor c_j)$ is called a *clause* and there are $m$ of them. (Sipser sometimes uses $k$ for the number of clauses, except when he needs $k$ for something else. I'll try to stick to $m$.) Each clause has exactly three disjuncts, called *literals*. Each literal is either a variable $x_i$ or a negated variable $\\neg x_i$. We'll be using 3CNF a lot, so remember this terminology and notation well.\n",
        "\n",
        "For example, this formula gets used a lot as an example:\n",
        "\n",
        "$$ \\phi = (x_1 \\lor x_1 \\lor x_2) \\land (\\neg x_1 \\lor \\neg x_2 \\lor \\neg x_2) \\land (\\neg x_1 \\lor x_2 \\lor x_2). $$\n",
        "\n",
        "It has $l = 2$ variables and $m = 3$ clauses. It has one satisfying assignment: $x_1 = 0, x_2 = 1$.\n",
        "\n",
        "After modifying the proof (which I omit here), we have shown not only that SAT is NP-complete, but 3SAT. This will make future reductions easier."
      ]
    }
  ],
  "metadata": {
    "kernelspec": {
      "display_name": "Python 3",
      "language": "python",
      "name": "python3"
    },
    "language_info": {
      "codemirror_mode": {
        "name": "ipython",
        "version": 3
      },
      "file_extension": ".py",
      "mimetype": "text/x-python",
      "name": "python",
      "nbconvert_exporter": "python",
      "pygments_lexer": "ipython3",
      "version": "3.8.1"
    },
    "colab": {
      "provenance": [],
      "include_colab_link": true
    }
  },
  "nbformat": 4,
  "nbformat_minor": 0
}