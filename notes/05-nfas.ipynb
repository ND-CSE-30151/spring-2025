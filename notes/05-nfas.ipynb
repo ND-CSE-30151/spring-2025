{
  "nbformat": 4,
  "nbformat_minor": 0,
  "metadata": {
    "colab": {
      "provenance": [],
      "authorship_tag": "ABX9TyNp+fckhvjYL9UZUAnakJF/"
    },
    "kernelspec": {
      "name": "python3",
      "display_name": "Python 3"
    },
    "language_info": {
      "name": "python"
    }
  },
  "cells": [
    {
      "cell_type": "markdown",
      "metadata": {
        "id": "jn6fZT_y-8d_"
      },
      "source": [
        "# Notebook 5: Nondeterministic Finite Automata\n"
      ]
    },
    {
      "cell_type": "code",
      "source": [
        "#@title Setup\n",
        "!pip install -qqq tock\n",
        "from tock import *\n",
        "!test -x /content/theory || git clone --quiet https://github.com/ND-CSE-30151/spring-2023 /content/theory\n",
        "%cd -q /content/theory/notes"
      ],
      "metadata": {
        "id": "bejxiYvbKzD3",
        "colab": {
          "base_uri": "https://localhost:8080/"
        },
        "outputId": "2db9b73f-3601-4cef-a662-42a58bc5151f",
        "cellView": "form"
      },
      "execution_count": 1,
      "outputs": [
        {
          "output_type": "stream",
          "name": "stdout",
          "text": [
            "\u001b[?25l     \u001b[90m━━━━━━━━━━━━━━━━━━━━━━━━━━━━━━━━━━━━━━━━\u001b[0m \u001b[32m0.0/539.5 kB\u001b[0m \u001b[31m?\u001b[0m eta \u001b[36m-:--:--\u001b[0m\r\u001b[2K     \u001b[91m━━━━━━━━━━━━━━━━━━━━━━━━━━━━━\u001b[0m\u001b[91m╸\u001b[0m\u001b[90m━━━━━━━━━━\u001b[0m \u001b[32m399.4/539.5 kB\u001b[0m \u001b[31m11.7 MB/s\u001b[0m eta \u001b[36m0:00:01\u001b[0m\r\u001b[2K     \u001b[90m━━━━━━━━━━━━━━━━━━━━━━━━━━━━━━━━━━━━━━━━\u001b[0m \u001b[32m539.5/539.5 kB\u001b[0m \u001b[31m8.1 MB/s\u001b[0m eta \u001b[36m0:00:00\u001b[0m\n",
            "\u001b[?25h  Preparing metadata (setup.py) ... \u001b[?25l\u001b[?25hdone\n",
            "  Building wheel for tock (setup.py) ... \u001b[?25l\u001b[?25hdone\n"
          ]
        }
      ]
    },
    {
      "cell_type": "markdown",
      "source": [
        "<div class=\"alert alert-info\">\n",
        "    <p><b>Read</b> 1.2.</p>\n",
        "</div>\n",
        "\n",
        "A deterministic finite automaton always knows what to do because there is always exactly one possible transition for each state $q$ and symbol $a$. Today, we look at *nondeterministic* finite automata (NFAs), in which there might be more than one possible transition. When this happens, the automaton follows *all* the transitions at once. It's a little like the `fork()` system call. Nondeterminism seems like a weird concept at first, but we will come back to it repeatedly throughout the course.\n",
        "\n",
        "## By example\n",
        "\n",
        "Here's an example NFA:"
      ],
      "metadata": {
        "id": "Eq47NhdBKuq6"
      }
    },
    {
      "cell_type": "code",
      "execution_count": 2,
      "metadata": {
        "id": "nYkbOC29-8d_",
        "outputId": "48ea6866-bc7d-4845-8543-b96266e03099",
        "colab": {
          "base_uri": "https://localhost:8080/",
          "height": 129
        }
      },
      "outputs": [
        {
          "output_type": "display_data",
          "data": {
            "text/plain": [
              "<IPython.core.display.SVG object>"
            ],
            "image/svg+xml": "<svg xmlns=\"http://www.w3.org/2000/svg\" xmlns:xlink=\"http://www.w3.org/1999/xlink\" width=\"292pt\" height=\"81pt\" viewBox=\"0.00 0.00 292.00 81.00\">\n<g id=\"graph0\" class=\"graph\" transform=\"scale(1 1) rotate(0) translate(4 77)\">\n\n<polygon fill=\"white\" stroke=\"transparent\" points=\"-4,4 -4,-77 288,-77 288,4 -4,4\"/>\n<!-- _START -->\n<g id=\"node1\" class=\"node\">\n\n</g>\n<!-- 2 -->\n<g id=\"node4\" class=\"node\">\n\n<path fill=\"none\" stroke=\"black\" d=\"M57.83,-21C57.83,-21 48.17,-21 48.17,-21 45.33,-21 42.5,-18.17 42.5,-15.33 42.5,-15.33 42.5,-9.67 42.5,-9.67 42.5,-6.83 45.33,-4 48.17,-4 48.17,-4 57.83,-4 57.83,-4 60.67,-4 63.5,-6.83 63.5,-9.67 63.5,-9.67 63.5,-15.33 63.5,-15.33 63.5,-18.17 60.67,-21 57.83,-21\"/>\n<text text-anchor=\"start\" x=\"46.5\" y=\"-10\" font-family=\"Monospace\" font-size=\"10.00\">q1</text>\n</g>\n<!-- _START&#45;&gt;2 -->\n<g id=\"edge1\" class=\"edge\">\n\n<path fill=\"none\" stroke=\"black\" d=\"M1.15,-12.5C3.02,-12.5 22.58,-12.5 36.88,-12.5\"/>\n<polygon fill=\"black\" stroke=\"black\" points=\"42.24,-12.5 37.24,-14.75 39.74,-12.5 37.24,-12.5 37.24,-12.5 37.24,-12.5 39.74,-12.5 37.24,-10.25 42.24,-12.5 42.24,-12.5\"/>\n</g>\n<!-- 0 -->\n<g id=\"node2\" class=\"node\">\n\n<path fill=\"none\" stroke=\"black\" d=\"M200.33,-21C200.33,-21 190.67,-21 190.67,-21 187.83,-21 185,-18.17 185,-15.33 185,-15.33 185,-9.67 185,-9.67 185,-6.83 187.83,-4 190.67,-4 190.67,-4 200.33,-4 200.33,-4 203.17,-4 206,-6.83 206,-9.67 206,-9.67 206,-15.33 206,-15.33 206,-18.17 203.17,-21 200.33,-21\"/>\n<text text-anchor=\"start\" x=\"189\" y=\"-10\" font-family=\"Monospace\" font-size=\"10.00\">q3</text>\n</g>\n<!-- 3 -->\n<g id=\"node5\" class=\"node\">\n\n<path fill=\"none\" stroke=\"black\" d=\"M273.83,-21C273.83,-21 264.17,-21 264.17,-21 261.33,-21 258.5,-18.17 258.5,-15.33 258.5,-15.33 258.5,-9.67 258.5,-9.67 258.5,-6.83 261.33,-4 264.17,-4 264.17,-4 273.83,-4 273.83,-4 276.67,-4 279.5,-6.83 279.5,-9.67 279.5,-9.67 279.5,-15.33 279.5,-15.33 279.5,-18.17 276.67,-21 273.83,-21\"/>\n<path fill=\"none\" stroke=\"black\" d=\"M275.17,-25C275.17,-25 262.83,-25 262.83,-25 258.67,-25 254.5,-20.83 254.5,-16.67 254.5,-16.67 254.5,-8.33 254.5,-8.33 254.5,-4.17 258.67,0 262.83,0 262.83,0 275.17,0 275.17,0 279.33,0 283.5,-4.17 283.5,-8.33 283.5,-8.33 283.5,-16.67 283.5,-16.67 283.5,-20.83 279.33,-25 275.17,-25\"/>\n<text text-anchor=\"start\" x=\"262.5\" y=\"-10\" font-family=\"Monospace\" font-size=\"10.00\">q4</text>\n</g>\n<!-- 0&#45;&gt;3 -->\n<g id=\"edge5\" class=\"edge\">\n\n<path fill=\"none\" stroke=\"black\" d=\"M206.14,-12.5C217.11,-12.5 235.29,-12.5 249.11,-12.5\"/>\n<polygon fill=\"black\" stroke=\"black\" points=\"254.36,-12.5 249.36,-14.75 251.86,-12.5 249.36,-12.5 249.36,-12.5 249.36,-12.5 251.86,-12.5 249.36,-10.25 254.36,-12.5 254.36,-12.5\"/>\n<text text-anchor=\"start\" x=\"227\" y=\"-18.3\" font-family=\"Monospace\" font-size=\"9.00\">1</text>\n</g>\n<!-- 1 -->\n<g id=\"node3\" class=\"node\">\n\n<path fill=\"none\" stroke=\"black\" d=\"M131.33,-21C131.33,-21 121.67,-21 121.67,-21 118.83,-21 116,-18.17 116,-15.33 116,-15.33 116,-9.67 116,-9.67 116,-6.83 118.83,-4 121.67,-4 121.67,-4 131.33,-4 131.33,-4 134.17,-4 137,-6.83 137,-9.67 137,-9.67 137,-15.33 137,-15.33 137,-18.17 134.17,-21 131.33,-21\"/>\n<text text-anchor=\"start\" x=\"120\" y=\"-10\" font-family=\"Monospace\" font-size=\"10.00\">q2</text>\n</g>\n<!-- 1&#45;&gt;0 -->\n<g id=\"edge4\" class=\"edge\">\n\n<path fill=\"none\" stroke=\"black\" d=\"M137.1,-12.5C148.24,-12.5 166.75,-12.5 179.73,-12.5\"/>\n<polygon fill=\"black\" stroke=\"black\" points=\"184.92,-12.5 179.92,-14.75 182.42,-12.5 179.92,-12.5 179.92,-12.5 179.92,-12.5 182.42,-12.5 179.92,-10.25 184.92,-12.5 184.92,-12.5\"/>\n<text text-anchor=\"start\" x=\"158\" y=\"-32.3\" font-family=\"Monospace\" font-size=\"9.00\">0</text>\n<text text-anchor=\"start\" x=\"158\" y=\"-18.3\" font-family=\"Monospace\" font-size=\"9.00\">ε</text>\n</g>\n<!-- 2&#45;&gt;1 -->\n<g id=\"edge3\" class=\"edge\">\n\n<path fill=\"none\" stroke=\"black\" d=\"M63.64,-12.5C75.62,-12.5 96.2,-12.5 110.31,-12.5\"/>\n<polygon fill=\"black\" stroke=\"black\" points=\"115.55,-12.5 110.55,-14.75 113.05,-12.5 110.55,-12.5 110.55,-12.5 110.55,-12.5 113.05,-12.5 110.55,-10.25 115.55,-12.5 115.55,-12.5\"/>\n<text text-anchor=\"start\" x=\"89\" y=\"-18.3\" font-family=\"Monospace\" font-size=\"9.00\">1</text>\n</g>\n<!-- 2&#45;&gt;2 -->\n<g id=\"edge2\" class=\"edge\">\n\n<path fill=\"none\" stroke=\"black\" d=\"M48.23,-21.19C45.6,-29.67 47.19,-39 53,-39 57.63,-39 59.58,-33.08 58.85,-26.38\"/>\n<polygon fill=\"black\" stroke=\"black\" points=\"57.77,-21.19 60.99,-25.62 58.28,-23.63 58.79,-26.08 58.79,-26.08 58.79,-26.08 58.28,-23.63 56.59,-26.54 57.77,-21.19 57.77,-21.19\"/>\n<text text-anchor=\"start\" x=\"50\" y=\"-58.8\" font-family=\"Monospace\" font-size=\"9.00\">0</text>\n<text text-anchor=\"start\" x=\"50\" y=\"-44.8\" font-family=\"Monospace\" font-size=\"9.00\">1</text>\n</g>\n<!-- 3&#45;&gt;3 -->\n<g id=\"edge6\" class=\"edge\">\n\n<path fill=\"none\" stroke=\"black\" d=\"M262.64,-25.03C260.57,-34.03 262.69,-43 269,-43 274.13,-43 276.49,-37.08 276.08,-30.03\"/>\n<polygon fill=\"black\" stroke=\"black\" points=\"275.36,-25.03 278.3,-29.66 275.72,-27.51 276.07,-29.98 276.07,-29.98 276.07,-29.98 275.72,-27.51 273.85,-30.3 275.36,-25.03 275.36,-25.03\"/>\n<text text-anchor=\"start\" x=\"266\" y=\"-62.8\" font-family=\"Monospace\" font-size=\"9.00\">0</text>\n<text text-anchor=\"start\" x=\"266\" y=\"-48.8\" font-family=\"Monospace\" font-size=\"9.00\">1</text>\n</g>\n</g>\n</svg>"
          },
          "metadata": {}
        }
      ],
      "source": [
        "n1 = read_csv('nfa-n1.csv')\n",
        "to_graph(n1)"
      ]
    },
    {
      "cell_type": "markdown",
      "metadata": {
        "id": "GHDlL-b2-8eA"
      },
      "source": [
        "There are two differences to note. First, a state can have more than one transition with the same symbol, or no transition with a certain symbol. Second, a transition can be labeled $\\varepsilon$, meaning that the NFA can \"spontaneously\" follow this transition without reading in any input symbols.\n",
        "\n",
        "Here's an example run, on the string `111`:"
      ]
    },
    {
      "cell_type": "code",
      "execution_count": 3,
      "metadata": {
        "id": "hBwAW53k-8eA",
        "outputId": "d7a02006-a7d8-459e-d9c3-a925bb60457b",
        "colab": {
          "base_uri": "https://localhost:8080/",
          "height": 296
        }
      },
      "outputs": [
        {
          "output_type": "display_data",
          "data": {
            "text/plain": [
              "<IPython.core.display.SVG object>"
            ],
            "image/svg+xml": "<svg xmlns=\"http://www.w3.org/2000/svg\" xmlns:xlink=\"http://www.w3.org/1999/xlink\" width=\"346pt\" height=\"206pt\" viewBox=\"0.00 0.00 346.00 205.50\">\n<g id=\"graph0\" class=\"graph\" transform=\"scale(1 1) rotate(0) translate(4 201.5)\">\n\n<polygon fill=\"white\" stroke=\"transparent\" points=\"-4,4 -4,-201.5 342,-201.5 342,4 -4,4\"/>\n<!-- _START -->\n<g id=\"node1\" class=\"node\">\n\n</g>\n<!-- 14 -->\n<g id=\"node16\" class=\"node\">\n\n<path fill=\"none\" stroke=\"black\" d=\"M62.33,-69C62.33,-69 52.67,-69 52.67,-69 49.83,-69 47,-66.17 47,-63.33 47,-63.33 47,-57.67 47,-57.67 47,-54.83 49.83,-52 52.67,-52 52.67,-52 62.33,-52 62.33,-52 65.17,-52 68,-54.83 68,-57.67 68,-57.67 68,-63.33 68,-63.33 68,-66.17 65.17,-69 62.33,-69\"/>\n<text text-anchor=\"start\" x=\"51\" y=\"-58\" font-family=\"Monospace\" font-size=\"10.00\">q1</text>\n</g>\n<!-- _START&#45;&gt;14 -->\n<g id=\"edge1\" class=\"edge\">\n\n<path fill=\"none\" stroke=\"black\" d=\"M1.16,-60.5C3.27,-60.5 25.82,-60.5 41.47,-60.5\"/>\n<polygon fill=\"black\" stroke=\"black\" points=\"46.88,-60.5 41.88,-62.75 44.38,-60.5 41.88,-60.5 41.88,-60.5 41.88,-60.5 44.38,-60.5 41.88,-58.25 46.88,-60.5 46.88,-60.5\"/>\n</g>\n<!-- 0 -->\n<g id=\"node2\" class=\"node\">\n\n</g>\n<!-- 2 -->\n<g id=\"node4\" class=\"node\">\n\n</g>\n<!-- 0&#45;&gt;2 -->\n<g id=\"edge15\" class=\"edge\">\n\n<path fill=\"none\" stroke=\"white\" d=\"M164.36,-181.5C176.89,-181.5 193.42,-181.5 206.83,-181.5\"/>\n<polygon fill=\"white\" stroke=\"white\" points=\"211.98,-181.5 206.98,-183.75 209.48,-181.5 206.98,-181.5 206.98,-181.5 206.98,-181.5 209.48,-181.5 206.98,-179.25 211.98,-181.5 211.98,-181.5\"/>\n<text text-anchor=\"start\" x=\"185\" y=\"-187.3\" font-family=\"Monospace\" font-size=\"9.00\">1</text>\n</g>\n<!-- 1 -->\n<g id=\"node3\" class=\"node\">\n\n</g>\n<!-- 1&#45;&gt;0 -->\n<g id=\"edge14\" class=\"edge\">\n\n<path fill=\"none\" stroke=\"white\" d=\"M77.36,-181.5C89.89,-181.5 106.42,-181.5 119.83,-181.5\"/>\n<polygon fill=\"white\" stroke=\"white\" points=\"124.98,-181.5 119.98,-183.75 122.48,-181.5 119.98,-181.5 119.98,-181.5 119.98,-181.5 122.48,-181.5 119.98,-179.25 124.98,-181.5 124.98,-181.5\"/>\n<text text-anchor=\"start\" x=\"98\" y=\"-187.3\" font-family=\"Monospace\" font-size=\"9.00\">1</text>\n</g>\n<!-- 3 -->\n<g id=\"node5\" class=\"node\">\n\n</g>\n<!-- 2&#45;&gt;3 -->\n<g id=\"edge16\" class=\"edge\">\n\n<path fill=\"none\" stroke=\"white\" d=\"M251.36,-181.5C263.89,-181.5 280.42,-181.5 293.83,-181.5\"/>\n<polygon fill=\"white\" stroke=\"white\" points=\"298.98,-181.5 293.98,-183.75 296.48,-181.5 293.98,-181.5 293.98,-181.5 293.98,-181.5 296.48,-181.5 293.98,-179.25 298.98,-181.5 298.98,-181.5\"/>\n<text text-anchor=\"start\" x=\"272\" y=\"-187.3\" font-family=\"Monospace\" font-size=\"9.00\">1</text>\n</g>\n<!-- 4 -->\n<g id=\"node6\" class=\"node\">\n\n<path fill=\"none\" stroke=\"black\" d=\"M323.33,-81C323.33,-81 313.67,-81 313.67,-81 310.83,-81 308,-78.17 308,-75.33 308,-75.33 308,-69.67 308,-69.67 308,-66.83 310.83,-64 313.67,-64 313.67,-64 323.33,-64 323.33,-64 326.17,-64 329,-66.83 329,-69.67 329,-69.67 329,-75.33 329,-75.33 329,-78.17 326.17,-81 323.33,-81\"/>\n<path fill=\"none\" stroke=\"black\" d=\"M324.67,-85C324.67,-85 312.33,-85 312.33,-85 308.17,-85 304,-80.83 304,-76.67 304,-76.67 304,-68.33 304,-68.33 304,-64.17 308.17,-60 312.33,-60 312.33,-60 324.67,-60 324.67,-60 328.83,-60 333,-64.17 333,-68.33 333,-68.33 333,-76.67 333,-76.67 333,-80.83 328.83,-85 324.67,-85\"/>\n<text text-anchor=\"start\" x=\"312\" y=\"-70\" font-family=\"Monospace\" font-size=\"10.00\">q4</text>\n</g>\n<!-- 5 -->\n<g id=\"node7\" class=\"node\">\n\n<path fill=\"none\" stroke=\"black\" d=\"M323.33,-42C323.33,-42 313.67,-42 313.67,-42 310.83,-42 308,-39.17 308,-36.33 308,-36.33 308,-30.67 308,-30.67 308,-27.83 310.83,-25 313.67,-25 313.67,-25 323.33,-25 323.33,-25 326.17,-25 329,-27.83 329,-30.67 329,-30.67 329,-36.33 329,-36.33 329,-39.17 326.17,-42 323.33,-42\"/>\n<text text-anchor=\"start\" x=\"312\" y=\"-31\" font-family=\"Monospace\" font-size=\"10.00\">q3</text>\n</g>\n<!-- 6 -->\n<g id=\"node8\" class=\"node\">\n\n<path fill=\"none\" stroke=\"black\" d=\"M236.33,-17C236.33,-17 226.67,-17 226.67,-17 223.83,-17 221,-14.17 221,-11.33 221,-11.33 221,-5.67 221,-5.67 221,-2.83 223.83,0 226.67,0 226.67,0 236.33,0 236.33,0 239.17,0 242,-2.83 242,-5.67 242,-5.67 242,-11.33 242,-11.33 242,-14.17 239.17,-17 236.33,-17\"/>\n<text text-anchor=\"start\" x=\"225\" y=\"-6\" font-family=\"Monospace\" font-size=\"10.00\">q4</text>\n</g>\n<!-- 6&#45;&gt;4 -->\n<g id=\"edge13\" class=\"edge\">\n\n<path fill=\"none\" stroke=\"black\" d=\"M242.25,-15.84C256.24,-26.37 282.24,-45.95 299.71,-59.11\"/>\n<polygon fill=\"black\" stroke=\"black\" points=\"303.96,-62.3 298.61,-61.09 301.96,-60.8 299.96,-59.29 299.96,-59.29 299.96,-59.29 301.96,-60.8 301.31,-57.5 303.96,-62.3 303.96,-62.3\"/>\n</g>\n<!-- 7 -->\n<g id=\"node9\" class=\"node\">\n\n<path fill=\"none\" stroke=\"black\" d=\"M236.33,-105C236.33,-105 226.67,-105 226.67,-105 223.83,-105 221,-102.17 221,-99.33 221,-99.33 221,-93.67 221,-93.67 221,-90.83 223.83,-88 226.67,-88 226.67,-88 236.33,-88 236.33,-88 239.17,-88 242,-90.83 242,-93.67 242,-93.67 242,-99.33 242,-99.33 242,-102.17 239.17,-105 236.33,-105\"/>\n<text text-anchor=\"start\" x=\"225\" y=\"-94\" font-family=\"Monospace\" font-size=\"10.00\">q3</text>\n</g>\n<!-- 7&#45;&gt;4 -->\n<g id=\"edge12\" class=\"edge\">\n\n<path fill=\"none\" stroke=\"black\" d=\"M242.25,-93.75C256,-89.86 281.36,-82.7 298.81,-77.78\"/>\n<polygon fill=\"black\" stroke=\"black\" points=\"303.96,-76.32 299.75,-79.85 301.55,-77 299.14,-77.68 299.14,-77.68 299.14,-77.68 301.55,-77 298.53,-75.52 303.96,-76.32 303.96,-76.32\"/>\n</g>\n<!-- 8 -->\n<g id=\"node10\" class=\"node\">\n\n<path fill=\"none\" stroke=\"black\" d=\"M323.33,-120C323.33,-120 313.67,-120 313.67,-120 310.83,-120 308,-117.17 308,-114.33 308,-114.33 308,-108.67 308,-108.67 308,-105.83 310.83,-103 313.67,-103 313.67,-103 323.33,-103 323.33,-103 326.17,-103 329,-105.83 329,-108.67 329,-108.67 329,-114.33 329,-114.33 329,-117.17 326.17,-120 323.33,-120\"/>\n<text text-anchor=\"start\" x=\"312\" y=\"-109\" font-family=\"Monospace\" font-size=\"10.00\">q2</text>\n</g>\n<!-- 8&#45;&gt;5 -->\n<g id=\"edge11\" class=\"edge\">\n\n<path fill=\"none\" stroke=\"black\" d=\"M307.65,-108.2C297.18,-104.37 281.91,-96.93 275,-84.5 269.6,-74.79 269.52,-69.16 275,-59.5 280.92,-49.07 292.86,-42.38 302.73,-38.4\"/>\n<polygon fill=\"black\" stroke=\"black\" points=\"307.67,-36.56 303.77,-40.42 305.32,-37.43 302.98,-38.31 302.98,-38.31 302.98,-38.31 305.32,-37.43 302.2,-36.2 307.67,-36.56 307.67,-36.56\"/>\n</g>\n<!-- 9 -->\n<g id=\"node11\" class=\"node\">\n\n<path fill=\"none\" stroke=\"black\" d=\"M323.33,-155C323.33,-155 313.67,-155 313.67,-155 310.83,-155 308,-152.17 308,-149.33 308,-149.33 308,-143.67 308,-143.67 308,-140.83 310.83,-138 313.67,-138 313.67,-138 323.33,-138 323.33,-138 326.17,-138 329,-140.83 329,-143.67 329,-143.67 329,-149.33 329,-149.33 329,-152.17 326.17,-155 323.33,-155\"/>\n<text text-anchor=\"start\" x=\"312\" y=\"-144\" font-family=\"Monospace\" font-size=\"10.00\">q1</text>\n</g>\n<!-- 10 -->\n<g id=\"node12\" class=\"node\">\n\n<path fill=\"none\" stroke=\"black\" d=\"M236.33,-140C236.33,-140 226.67,-140 226.67,-140 223.83,-140 221,-137.17 221,-134.33 221,-134.33 221,-128.67 221,-128.67 221,-125.83 223.83,-123 226.67,-123 226.67,-123 236.33,-123 236.33,-123 239.17,-123 242,-125.83 242,-128.67 242,-128.67 242,-134.33 242,-134.33 242,-137.17 239.17,-140 236.33,-140\"/>\n<text text-anchor=\"start\" x=\"225\" y=\"-129\" font-family=\"Monospace\" font-size=\"10.00\">q1</text>\n</g>\n<!-- 10&#45;&gt;8 -->\n<g id=\"edge8\" class=\"edge\">\n\n<path fill=\"none\" stroke=\"black\" d=\"M242.25,-129.21C257.11,-125.71 285.52,-119.02 302.86,-114.94\"/>\n<polygon fill=\"black\" stroke=\"black\" points=\"307.86,-113.77 303.51,-117.1 305.43,-114.34 303,-114.91 303,-114.91 303,-114.91 305.43,-114.34 302.48,-112.72 307.86,-113.77 307.86,-113.77\"/>\n</g>\n<!-- 10&#45;&gt;9 -->\n<g id=\"edge7\" class=\"edge\">\n\n<path fill=\"none\" stroke=\"black\" d=\"M242.25,-133.22C257.11,-135.84 285.52,-140.86 302.86,-143.92\"/>\n<polygon fill=\"black\" stroke=\"black\" points=\"307.86,-144.8 302.55,-146.15 305.4,-144.36 302.94,-143.93 302.94,-143.93 302.94,-143.93 305.4,-144.36 303.33,-141.71 307.86,-144.8 307.86,-144.8\"/>\n</g>\n<!-- 11 -->\n<g id=\"node13\" class=\"node\">\n\n<path fill=\"none\" stroke=\"black\" d=\"M236.33,-52C236.33,-52 226.67,-52 226.67,-52 223.83,-52 221,-49.17 221,-46.33 221,-46.33 221,-40.67 221,-40.67 221,-37.83 223.83,-35 226.67,-35 226.67,-35 236.33,-35 236.33,-35 239.17,-35 242,-37.83 242,-40.67 242,-40.67 242,-46.33 242,-46.33 242,-49.17 239.17,-52 236.33,-52\"/>\n<text text-anchor=\"start\" x=\"225\" y=\"-41\" font-family=\"Monospace\" font-size=\"10.00\">q2</text>\n</g>\n<!-- 11&#45;&gt;7 -->\n<g id=\"edge9\" class=\"edge\">\n\n<path fill=\"none\" stroke=\"black\" d=\"M231.5,-52.2C231.5,-62.41 231.5,-72.62 231.5,-82.83\"/>\n<polygon fill=\"black\" stroke=\"black\" points=\"231.5,-87.85 229.25,-82.85 231.5,-85.35 231.5,-82.85 231.5,-82.85 231.5,-82.85 231.5,-85.35 233.75,-82.85 231.5,-87.85 231.5,-87.85\"/>\n</g>\n<!-- 12 -->\n<g id=\"node14\" class=\"node\">\n\n<path fill=\"none\" stroke=\"black\" d=\"M149.33,-87C149.33,-87 139.67,-87 139.67,-87 136.83,-87 134,-84.17 134,-81.33 134,-81.33 134,-75.67 134,-75.67 134,-72.83 136.83,-70 139.67,-70 139.67,-70 149.33,-70 149.33,-70 152.17,-70 155,-72.83 155,-75.67 155,-75.67 155,-81.33 155,-81.33 155,-84.17 152.17,-87 149.33,-87\"/>\n<text text-anchor=\"start\" x=\"138\" y=\"-76\" font-family=\"Monospace\" font-size=\"10.00\">q2</text>\n</g>\n<!-- 13 -->\n<g id=\"node15\" class=\"node\">\n\n<path fill=\"none\" stroke=\"black\" d=\"M149.33,-17C149.33,-17 139.67,-17 139.67,-17 136.83,-17 134,-14.17 134,-11.33 134,-11.33 134,-5.67 134,-5.67 134,-2.83 136.83,0 139.67,0 139.67,0 149.33,0 149.33,0 152.17,0 155,-2.83 155,-5.67 155,-5.67 155,-11.33 155,-11.33 155,-14.17 152.17,-17 149.33,-17\"/>\n<text text-anchor=\"start\" x=\"138\" y=\"-6\" font-family=\"Monospace\" font-size=\"10.00\">q3</text>\n</g>\n<!-- 12&#45;&gt;13 -->\n<g id=\"edge6\" class=\"edge\">\n\n<path fill=\"none\" stroke=\"black\" d=\"M133.65,-75.2C123.18,-71.37 107.91,-63.93 101,-51.5 97.33,-44.9 97.27,-41.07 101,-34.5 106.92,-24.07 118.86,-17.38 128.73,-13.4\"/>\n<polygon fill=\"black\" stroke=\"black\" points=\"133.67,-11.56 129.77,-15.42 131.32,-12.43 128.98,-13.31 128.98,-13.31 128.98,-13.31 131.32,-12.43 128.2,-11.2 133.67,-11.56 133.67,-11.56\"/>\n</g>\n<!-- 13&#45;&gt;6 -->\n<g id=\"edge10\" class=\"edge\">\n\n<path fill=\"none\" stroke=\"black\" d=\"M155.25,-8.5C169.98,-8.5 198.03,-8.5 215.41,-8.5\"/>\n<polygon fill=\"black\" stroke=\"black\" points=\"220.86,-8.5 215.86,-10.75 218.36,-8.5 215.86,-8.5 215.86,-8.5 215.86,-8.5 218.36,-8.5 215.86,-6.25 220.86,-8.5 220.86,-8.5\"/>\n</g>\n<!-- 14&#45;&gt;12 -->\n<g id=\"edge3\" class=\"edge\">\n\n<path fill=\"none\" stroke=\"black\" d=\"M68.25,-62.56C83.11,-65.71 111.52,-71.73 128.86,-75.4\"/>\n<polygon fill=\"black\" stroke=\"black\" points=\"133.86,-76.46 128.51,-77.62 131.42,-75.94 128.97,-75.42 128.97,-75.42 128.97,-75.42 131.42,-75.94 129.44,-73.22 133.86,-76.46 133.86,-76.46\"/>\n</g>\n<!-- 15 -->\n<g id=\"node17\" class=\"node\">\n\n<path fill=\"none\" stroke=\"black\" d=\"M149.33,-52C149.33,-52 139.67,-52 139.67,-52 136.83,-52 134,-49.17 134,-46.33 134,-46.33 134,-40.67 134,-40.67 134,-37.83 136.83,-35 139.67,-35 139.67,-35 149.33,-35 149.33,-35 152.17,-35 155,-37.83 155,-40.67 155,-40.67 155,-46.33 155,-46.33 155,-49.17 152.17,-52 149.33,-52\"/>\n<text text-anchor=\"start\" x=\"138\" y=\"-41\" font-family=\"Monospace\" font-size=\"10.00\">q1</text>\n</g>\n<!-- 14&#45;&gt;15 -->\n<g id=\"edge2\" class=\"edge\">\n\n<path fill=\"none\" stroke=\"black\" d=\"M68.25,-58.55C83.11,-55.58 111.52,-49.9 128.86,-46.43\"/>\n<polygon fill=\"black\" stroke=\"black\" points=\"133.86,-45.43 129.4,-48.61 131.41,-45.92 128.96,-46.41 128.96,-46.41 128.96,-46.41 131.41,-45.92 128.52,-44.2 133.86,-45.43 133.86,-45.43\"/>\n</g>\n<!-- 15&#45;&gt;10 -->\n<g id=\"edge4\" class=\"edge\">\n\n<path fill=\"none\" stroke=\"black\" d=\"M155.07,-51.99C157.99,-54.66 161.17,-57.65 164,-60.5 186.39,-83.05 189.93,-90.63 212,-113.5 213.77,-115.34 215.67,-117.25 217.56,-119.11\"/>\n<polygon fill=\"black\" stroke=\"black\" points=\"221.35,-122.82 216.21,-120.94 219.57,-121.08 217.78,-119.33 217.78,-119.33 217.78,-119.33 219.57,-121.08 219.35,-117.72 221.35,-122.82 221.35,-122.82\"/>\n</g>\n<!-- 15&#45;&gt;11 -->\n<g id=\"edge5\" class=\"edge\">\n\n<path fill=\"none\" stroke=\"black\" d=\"M155.25,-43.5C169.98,-43.5 198.03,-43.5 215.41,-43.5\"/>\n<polygon fill=\"black\" stroke=\"black\" points=\"220.86,-43.5 215.86,-45.75 218.36,-43.5 215.86,-43.5 215.86,-43.5 215.86,-43.5 218.36,-43.5 215.86,-41.25 220.86,-43.5 220.86,-43.5\"/>\n</g>\n</g>\n</svg>"
          },
          "metadata": {}
        }
      ],
      "source": [
        "run(n1, \"1 1 1\")"
      ]
    },
    {
      "cell_type": "markdown",
      "metadata": {
        "id": "ERR4pS8n-8eA"
      },
      "source": [
        "This graph (basically the same as Figure 1.29 but rotated 90 degrees) shows all the possible branches of computation. At left, we see that the machine starts in state $q_1$. Upon reading the first symbol (`1`), it goes to state $q_1$ *and* $q_2$. Moreover, from state $q_2$, it can go immediately to state $q_3$ without reading any input.\n",
        "\n",
        "In order for an NFA to accept a string, only one path needs to accept it. In the above example, the NFA accepts the string because at least one branch of computation is in state $q_4$ at the end of the string. The other paths can dead-end, or they can even loop forever."
      ]
    },
    {
      "cell_type": "markdown",
      "metadata": {
        "id": "Iz-Evhji-8eB"
      },
      "source": [
        "More example NFAs from the book:"
      ]
    },
    {
      "cell_type": "code",
      "execution_count": 4,
      "metadata": {
        "id": "Pdi1RoX8-8eB",
        "outputId": "e9be4a42-4f80-41d1-d882-01f80316e837",
        "colab": {
          "base_uri": "https://localhost:8080/",
          "height": 124
        }
      },
      "outputs": [
        {
          "output_type": "display_data",
          "data": {
            "text/plain": [
              "<IPython.core.display.SVG object>"
            ],
            "image/svg+xml": "<svg xmlns=\"http://www.w3.org/2000/svg\" xmlns:xlink=\"http://www.w3.org/1999/xlink\" width=\"291pt\" height=\"77pt\" viewBox=\"0.00 0.00 291.00 77.00\">\n<g id=\"graph0\" class=\"graph\" transform=\"scale(1 1) rotate(0) translate(4 73)\">\n\n<polygon fill=\"white\" stroke=\"transparent\" points=\"-4,4 -4,-73 287,-73 287,4 -4,4\"/>\n<!-- _START -->\n<g id=\"node1\" class=\"node\">\n\n</g>\n<!-- 2 -->\n<g id=\"node4\" class=\"node\">\n\n<path fill=\"none\" stroke=\"black\" d=\"M57.83,-21C57.83,-21 48.17,-21 48.17,-21 45.33,-21 42.5,-18.17 42.5,-15.33 42.5,-15.33 42.5,-9.67 42.5,-9.67 42.5,-6.83 45.33,-4 48.17,-4 48.17,-4 57.83,-4 57.83,-4 60.67,-4 63.5,-6.83 63.5,-9.67 63.5,-9.67 63.5,-15.33 63.5,-15.33 63.5,-18.17 60.67,-21 57.83,-21\"/>\n<text text-anchor=\"start\" x=\"46.5\" y=\"-10\" font-family=\"Monospace\" font-size=\"10.00\">q1</text>\n</g>\n<!-- _START&#45;&gt;2 -->\n<g id=\"edge1\" class=\"edge\">\n\n<path fill=\"none\" stroke=\"black\" d=\"M1.15,-12.5C3.02,-12.5 22.58,-12.5 36.88,-12.5\"/>\n<polygon fill=\"black\" stroke=\"black\" points=\"42.24,-12.5 37.24,-14.75 39.74,-12.5 37.24,-12.5 37.24,-12.5 37.24,-12.5 39.74,-12.5 37.24,-10.25 42.24,-12.5 42.24,-12.5\"/>\n</g>\n<!-- 0 -->\n<g id=\"node2\" class=\"node\">\n\n<path fill=\"none\" stroke=\"black\" d=\"M200.33,-21C200.33,-21 190.67,-21 190.67,-21 187.83,-21 185,-18.17 185,-15.33 185,-15.33 185,-9.67 185,-9.67 185,-6.83 187.83,-4 190.67,-4 190.67,-4 200.33,-4 200.33,-4 203.17,-4 206,-6.83 206,-9.67 206,-9.67 206,-15.33 206,-15.33 206,-18.17 203.17,-21 200.33,-21\"/>\n<text text-anchor=\"start\" x=\"189\" y=\"-10\" font-family=\"Monospace\" font-size=\"10.00\">q3</text>\n</g>\n<!-- 3 -->\n<g id=\"node5\" class=\"node\">\n\n<path fill=\"none\" stroke=\"black\" d=\"M273.33,-21C273.33,-21 263.67,-21 263.67,-21 260.83,-21 258,-18.17 258,-15.33 258,-15.33 258,-9.67 258,-9.67 258,-6.83 260.83,-4 263.67,-4 263.67,-4 273.33,-4 273.33,-4 276.17,-4 279,-6.83 279,-9.67 279,-9.67 279,-15.33 279,-15.33 279,-18.17 276.17,-21 273.33,-21\"/>\n<path fill=\"none\" stroke=\"black\" d=\"M274.67,-25C274.67,-25 262.33,-25 262.33,-25 258.17,-25 254,-20.83 254,-16.67 254,-16.67 254,-8.33 254,-8.33 254,-4.17 258.17,0 262.33,0 262.33,0 274.67,0 274.67,0 278.83,0 283,-4.17 283,-8.33 283,-8.33 283,-16.67 283,-16.67 283,-20.83 278.83,-25 274.67,-25\"/>\n<text text-anchor=\"start\" x=\"262\" y=\"-10\" font-family=\"Monospace\" font-size=\"10.00\">q4</text>\n</g>\n<!-- 0&#45;&gt;3 -->\n<g id=\"edge5\" class=\"edge\">\n\n<path fill=\"none\" stroke=\"black\" d=\"M206.08,-12.5C216.97,-12.5 235.02,-12.5 248.75,-12.5\"/>\n<polygon fill=\"black\" stroke=\"black\" points=\"253.96,-12.5 248.96,-14.75 251.46,-12.5 248.96,-12.5 248.96,-12.5 248.96,-12.5 251.46,-12.5 248.96,-10.25 253.96,-12.5 253.96,-12.5\"/>\n<text text-anchor=\"start\" x=\"227\" y=\"-32.3\" font-family=\"Monospace\" font-size=\"9.00\">0</text>\n<text text-anchor=\"start\" x=\"227\" y=\"-18.3\" font-family=\"Monospace\" font-size=\"9.00\">1</text>\n</g>\n<!-- 1 -->\n<g id=\"node3\" class=\"node\">\n\n<path fill=\"none\" stroke=\"black\" d=\"M131.33,-21C131.33,-21 121.67,-21 121.67,-21 118.83,-21 116,-18.17 116,-15.33 116,-15.33 116,-9.67 116,-9.67 116,-6.83 118.83,-4 121.67,-4 121.67,-4 131.33,-4 131.33,-4 134.17,-4 137,-6.83 137,-9.67 137,-9.67 137,-15.33 137,-15.33 137,-18.17 134.17,-21 131.33,-21\"/>\n<text text-anchor=\"start\" x=\"120\" y=\"-10\" font-family=\"Monospace\" font-size=\"10.00\">q2</text>\n</g>\n<!-- 1&#45;&gt;0 -->\n<g id=\"edge4\" class=\"edge\">\n\n<path fill=\"none\" stroke=\"black\" d=\"M137.1,-12.5C148.24,-12.5 166.75,-12.5 179.73,-12.5\"/>\n<polygon fill=\"black\" stroke=\"black\" points=\"184.92,-12.5 179.92,-14.75 182.42,-12.5 179.92,-12.5 179.92,-12.5 179.92,-12.5 182.42,-12.5 179.92,-10.25 184.92,-12.5 184.92,-12.5\"/>\n<text text-anchor=\"start\" x=\"158\" y=\"-32.3\" font-family=\"Monospace\" font-size=\"9.00\">0</text>\n<text text-anchor=\"start\" x=\"158\" y=\"-18.3\" font-family=\"Monospace\" font-size=\"9.00\">1</text>\n</g>\n<!-- 2&#45;&gt;1 -->\n<g id=\"edge3\" class=\"edge\">\n\n<path fill=\"none\" stroke=\"black\" d=\"M63.64,-12.5C75.62,-12.5 96.2,-12.5 110.31,-12.5\"/>\n<polygon fill=\"black\" stroke=\"black\" points=\"115.55,-12.5 110.55,-14.75 113.05,-12.5 110.55,-12.5 110.55,-12.5 110.55,-12.5 113.05,-12.5 110.55,-10.25 115.55,-12.5 115.55,-12.5\"/>\n<text text-anchor=\"start\" x=\"89\" y=\"-18.3\" font-family=\"Monospace\" font-size=\"9.00\">1</text>\n</g>\n<!-- 2&#45;&gt;2 -->\n<g id=\"edge2\" class=\"edge\">\n\n<path fill=\"none\" stroke=\"black\" d=\"M48.23,-21.19C45.6,-29.67 47.19,-39 53,-39 57.63,-39 59.58,-33.08 58.85,-26.38\"/>\n<polygon fill=\"black\" stroke=\"black\" points=\"57.77,-21.19 60.99,-25.62 58.28,-23.63 58.79,-26.08 58.79,-26.08 58.79,-26.08 58.28,-23.63 56.59,-26.54 57.77,-21.19 57.77,-21.19\"/>\n<text text-anchor=\"start\" x=\"50\" y=\"-58.8\" font-family=\"Monospace\" font-size=\"9.00\">0</text>\n<text text-anchor=\"start\" x=\"50\" y=\"-44.8\" font-family=\"Monospace\" font-size=\"9.00\">1</text>\n</g>\n</g>\n</svg>"
          },
          "metadata": {}
        }
      ],
      "source": [
        "n2 = read_csv('nfa-n2.csv')\n",
        "n2"
      ]
    },
    {
      "cell_type": "code",
      "execution_count": 5,
      "metadata": {
        "id": "KQytrAql-8eC",
        "outputId": "96280704-b2be-4bd3-b87d-6d8268c6562d",
        "colab": {
          "base_uri": "https://localhost:8080/",
          "height": 184
        }
      },
      "outputs": [
        {
          "output_type": "display_data",
          "data": {
            "text/plain": [
              "<IPython.core.display.SVG object>"
            ],
            "image/svg+xml": "<svg xmlns=\"http://www.w3.org/2000/svg\" xmlns:xlink=\"http://www.w3.org/1999/xlink\" width=\"282pt\" height=\"122pt\" viewBox=\"0.00 0.00 282.00 122.02\">\n<g id=\"graph0\" class=\"graph\" transform=\"scale(1 1) rotate(0) translate(4 118.02)\">\n\n<polygon fill=\"white\" stroke=\"transparent\" points=\"-4,4 -4,-118.02 278,-118.02 278,4 -4,4\"/>\n<!-- _START -->\n<g id=\"node1\" class=\"node\">\n\n</g>\n<!-- 3 -->\n<g id=\"node5\" class=\"node\">\n\n<path fill=\"none\" stroke=\"black\" d=\"M53.33,-62.52C53.33,-62.52 43.67,-62.52 43.67,-62.52 40.83,-62.52 38,-59.69 38,-56.86 38,-56.86 38,-51.19 38,-51.19 38,-48.36 40.83,-45.52 43.67,-45.52 43.67,-45.52 53.33,-45.52 53.33,-45.52 56.17,-45.52 59,-48.36 59,-51.19 59,-51.19 59,-56.86 59,-56.86 59,-59.69 56.17,-62.52 53.33,-62.52\"/>\n<text text-anchor=\"start\" x=\"42\" y=\"-51.52\" font-family=\"Monospace\" font-size=\"10.00\">q1</text>\n</g>\n<!-- _START&#45;&gt;3 -->\n<g id=\"edge1\" class=\"edge\">\n\n<path fill=\"none\" stroke=\"black\" d=\"M1.13,-54.02C2.79,-54.02 19.6,-54.02 32.5,-54.02\"/>\n<polygon fill=\"black\" stroke=\"black\" points=\"37.74,-54.02 32.74,-56.27 35.24,-54.02 32.74,-54.02 32.74,-54.02 32.74,-54.02 35.24,-54.02 32.74,-51.77 37.74,-54.02 37.74,-54.02\"/>\n</g>\n<!-- 0 -->\n<g id=\"node2\" class=\"node\">\n\n<path fill=\"none\" stroke=\"black\" d=\"M199.33,-21.52C199.33,-21.52 189.67,-21.52 189.67,-21.52 186.83,-21.52 184,-18.69 184,-15.86 184,-15.86 184,-10.19 184,-10.19 184,-7.36 186.83,-4.52 189.67,-4.52 189.67,-4.52 199.33,-4.52 199.33,-4.52 202.17,-4.52 205,-7.36 205,-10.19 205,-10.19 205,-15.86 205,-15.86 205,-18.69 202.17,-21.52 199.33,-21.52\"/>\n<text text-anchor=\"start\" x=\"188\" y=\"-10.52\" font-family=\"Monospace\" font-size=\"10.00\">q3</text>\n</g>\n<!-- 5 -->\n<g id=\"node7\" class=\"node\">\n\n<path fill=\"none\" stroke=\"black\" d=\"M126.33,-41.52C126.33,-41.52 116.67,-41.52 116.67,-41.52 113.83,-41.52 111,-38.69 111,-35.86 111,-35.86 111,-30.19 111,-30.19 111,-27.36 113.83,-24.52 116.67,-24.52 116.67,-24.52 126.33,-24.52 126.33,-24.52 129.17,-24.52 132,-27.36 132,-30.19 132,-30.19 132,-35.86 132,-35.86 132,-38.69 129.17,-41.52 126.33,-41.52\"/>\n<path fill=\"none\" stroke=\"black\" d=\"M127.67,-45.52C127.67,-45.52 115.33,-45.52 115.33,-45.52 111.17,-45.52 107,-41.36 107,-37.19 107,-37.19 107,-28.86 107,-28.86 107,-24.69 111.17,-20.52 115.33,-20.52 115.33,-20.52 127.67,-20.52 127.67,-20.52 131.83,-20.52 136,-24.69 136,-28.86 136,-28.86 136,-37.19 136,-37.19 136,-41.36 131.83,-45.52 127.67,-45.52\"/>\n<text text-anchor=\"start\" x=\"115\" y=\"-30.52\" font-family=\"Monospace\" font-size=\"10.00\">q2</text>\n</g>\n<!-- 0&#45;&gt;5 -->\n<g id=\"edge5\" class=\"edge\">\n\n<path fill=\"none\" stroke=\"black\" d=\"M183.87,-6.85C175.74,-2.45 163.88,2.02 154,-2.02 146.62,-5.05 140.03,-10.73 134.82,-16.41\"/>\n<polygon fill=\"black\" stroke=\"black\" points=\"131.43,-20.31 133.01,-15.06 133.07,-18.43 134.71,-16.54 134.71,-16.54 134.71,-16.54 133.07,-18.43 136.41,-18.01 131.43,-20.31 131.43,-20.31\"/>\n<text text-anchor=\"start\" x=\"157\" y=\"-7.82\" font-family=\"Monospace\" font-size=\"9.00\">0</text>\n</g>\n<!-- 1 -->\n<g id=\"node3\" class=\"node\">\n\n<path fill=\"none\" stroke=\"black\" d=\"M199.33,-73.52C199.33,-73.52 189.67,-73.52 189.67,-73.52 186.83,-73.52 184,-70.69 184,-67.86 184,-67.86 184,-62.19 184,-62.19 184,-59.36 186.83,-56.52 189.67,-56.52 189.67,-56.52 199.33,-56.52 199.33,-56.52 202.17,-56.52 205,-59.36 205,-62.19 205,-62.19 205,-67.86 205,-67.86 205,-70.69 202.17,-73.52 199.33,-73.52\"/>\n<text text-anchor=\"start\" x=\"188\" y=\"-62.52\" font-family=\"Monospace\" font-size=\"10.00\">q5</text>\n</g>\n<!-- 2 -->\n<g id=\"node4\" class=\"node\">\n\n<path fill=\"none\" stroke=\"black\" d=\"M268.33,-95.52C268.33,-95.52 258.67,-95.52 258.67,-95.52 255.83,-95.52 253,-92.69 253,-89.86 253,-89.86 253,-84.19 253,-84.19 253,-81.36 255.83,-78.52 258.67,-78.52 258.67,-78.52 268.33,-78.52 268.33,-78.52 271.17,-78.52 274,-81.36 274,-84.19 274,-84.19 274,-89.86 274,-89.86 274,-92.69 271.17,-95.52 268.33,-95.52\"/>\n<text text-anchor=\"start\" x=\"257\" y=\"-84.52\" font-family=\"Monospace\" font-size=\"10.00\">q6</text>\n</g>\n<!-- 1&#45;&gt;2 -->\n<g id=\"edge7\" class=\"edge\">\n\n<path fill=\"none\" stroke=\"black\" d=\"M205.1,-68.18C216.34,-71.87 235.08,-78.02 248.08,-82.29\"/>\n<polygon fill=\"black\" stroke=\"black\" points=\"252.92,-83.88 247.47,-84.45 250.54,-83.1 248.17,-82.32 248.17,-82.32 248.17,-82.32 250.54,-83.1 248.87,-80.18 252.92,-83.88 252.92,-83.88\"/>\n<text text-anchor=\"start\" x=\"226\" y=\"-82.82\" font-family=\"Monospace\" font-size=\"9.00\">0</text>\n</g>\n<!-- 4 -->\n<g id=\"node6\" class=\"node\">\n\n<path fill=\"none\" stroke=\"black\" d=\"M126.33,-84.52C126.33,-84.52 116.67,-84.52 116.67,-84.52 113.83,-84.52 111,-81.69 111,-78.86 111,-78.86 111,-73.19 111,-73.19 111,-70.36 113.83,-67.52 116.67,-67.52 116.67,-67.52 126.33,-67.52 126.33,-67.52 129.17,-67.52 132,-70.36 132,-73.19 132,-73.19 132,-78.86 132,-78.86 132,-81.69 129.17,-84.52 126.33,-84.52\"/>\n<path fill=\"none\" stroke=\"black\" d=\"M127.67,-88.52C127.67,-88.52 115.33,-88.52 115.33,-88.52 111.17,-88.52 107,-84.36 107,-80.19 107,-80.19 107,-71.86 107,-71.86 107,-67.69 111.17,-63.52 115.33,-63.52 115.33,-63.52 127.67,-63.52 127.67,-63.52 131.83,-63.52 136,-67.69 136,-71.86 136,-71.86 136,-80.19 136,-80.19 136,-84.36 131.83,-88.52 127.67,-88.52\"/>\n<text text-anchor=\"start\" x=\"115\" y=\"-73.52\" font-family=\"Monospace\" font-size=\"10.00\">q4</text>\n</g>\n<!-- 2&#45;&gt;4 -->\n<g id=\"edge8\" class=\"edge\">\n\n<path fill=\"none\" stroke=\"black\" d=\"M252.76,-91.05C247.58,-92.97 241.05,-95.06 235,-96.02 199.35,-101.71 188.95,-99.04 154,-90.02 149.67,-88.91 145.18,-87.25 141,-85.46\"/>\n<polygon fill=\"black\" stroke=\"black\" points=\"136.25,-83.32 141.74,-83.32 138.53,-84.35 140.81,-85.38 140.81,-85.38 140.81,-85.38 138.53,-84.35 139.89,-87.43 136.25,-83.32 136.25,-83.32\"/>\n<text text-anchor=\"start\" x=\"191.5\" y=\"-103.82\" font-family=\"Monospace\" font-size=\"9.00\">0</text>\n</g>\n<!-- 3&#45;&gt;4 -->\n<g id=\"edge2\" class=\"edge\">\n\n<path fill=\"none\" stroke=\"black\" d=\"M59.08,-56.99C70.07,-60.4 88.34,-66.06 102.11,-70.33\"/>\n<polygon fill=\"black\" stroke=\"black\" points=\"106.96,-71.83 101.51,-72.5 104.57,-71.09 102.18,-70.35 102.18,-70.35 102.18,-70.35 104.57,-71.09 102.85,-68.2 106.96,-71.83 106.96,-71.83\"/>\n<text text-anchor=\"start\" x=\"80\" y=\"-70.82\" font-family=\"Monospace\" font-size=\"9.00\">ε</text>\n</g>\n<!-- 3&#45;&gt;5 -->\n<g id=\"edge3\" class=\"edge\">\n\n<path fill=\"none\" stroke=\"black\" d=\"M59.13,-46.54C64.17,-43.03 70.61,-39.16 77,-37.02 84.83,-34.4 93.87,-33.29 101.67,-32.87\"/>\n<polygon fill=\"black\" stroke=\"black\" points=\"106.84,-32.69 101.93,-35.12 104.35,-32.78 101.85,-32.87 101.85,-32.87 101.85,-32.87 104.35,-32.78 101.77,-30.62 106.84,-32.69 106.84,-32.69\"/>\n<text text-anchor=\"start\" x=\"80\" y=\"-42.82\" font-family=\"Monospace\" font-size=\"9.00\">ε</text>\n</g>\n<!-- 4&#45;&gt;1 -->\n<g id=\"edge6\" class=\"edge\">\n\n<path fill=\"none\" stroke=\"black\" d=\"M136.19,-73.9C148.46,-72 166.41,-69.22 178.94,-67.28\"/>\n<polygon fill=\"black\" stroke=\"black\" points=\"183.94,-66.5 179.35,-69.49 181.47,-66.89 179,-67.27 179,-67.27 179,-67.27 181.47,-66.89 178.66,-65.05 183.94,-66.5 183.94,-66.5\"/>\n<text text-anchor=\"start\" x=\"157\" y=\"-75.82\" font-family=\"Monospace\" font-size=\"9.00\">0</text>\n</g>\n<!-- 5&#45;&gt;0 -->\n<g id=\"edge4\" class=\"edge\">\n\n<path fill=\"none\" stroke=\"black\" d=\"M136.19,-29.17C148.46,-25.71 166.41,-20.66 178.94,-17.13\"/>\n<polygon fill=\"black\" stroke=\"black\" points=\"183.94,-15.72 179.74,-19.24 181.54,-16.39 179.13,-17.07 179.13,-17.07 179.13,-17.07 181.54,-16.39 178.52,-14.91 183.94,-15.72 183.94,-15.72\"/>\n<text text-anchor=\"start\" x=\"157\" y=\"-29.82\" font-family=\"Monospace\" font-size=\"9.00\">0</text>\n</g>\n</g>\n</svg>"
          },
          "metadata": {}
        }
      ],
      "source": [
        "n3 = read_csv('nfa-n3.csv')\n",
        "n3"
      ]
    },
    {
      "cell_type": "code",
      "execution_count": 6,
      "metadata": {
        "id": "EzRk4tYE-8eC",
        "outputId": "bdeef130-79cf-456a-a38c-a368215dc842",
        "colab": {
          "base_uri": "https://localhost:8080/",
          "height": 174
        }
      },
      "outputs": [
        {
          "output_type": "display_data",
          "data": {
            "text/plain": [
              "<IPython.core.display.SVG object>"
            ],
            "image/svg+xml": "<svg xmlns=\"http://www.w3.org/2000/svg\" xmlns:xlink=\"http://www.w3.org/1999/xlink\" width=\"213pt\" height=\"115pt\" viewBox=\"0.00 0.00 213.00 114.65\">\n<g id=\"graph0\" class=\"graph\" transform=\"scale(1 1) rotate(0) translate(4 110.65)\">\n\n<polygon fill=\"white\" stroke=\"transparent\" points=\"-4,4 -4,-110.65 209,-110.65 209,4 -4,4\"/>\n<!-- _START -->\n<g id=\"node1\" class=\"node\">\n\n</g>\n<!-- 0 -->\n<g id=\"node2\" class=\"node\">\n\n<path fill=\"none\" stroke=\"black\" d=\"M57.33,-29.65C57.33,-29.65 47.67,-29.65 47.67,-29.65 44.83,-29.65 42,-26.82 42,-23.98 42,-23.98 42,-18.32 42,-18.32 42,-15.48 44.83,-12.65 47.67,-12.65 47.67,-12.65 57.33,-12.65 57.33,-12.65 60.17,-12.65 63,-15.48 63,-18.32 63,-18.32 63,-23.98 63,-23.98 63,-26.82 60.17,-29.65 57.33,-29.65\"/>\n<path fill=\"none\" stroke=\"black\" d=\"M58.67,-33.65C58.67,-33.65 46.33,-33.65 46.33,-33.65 42.17,-33.65 38,-29.48 38,-25.32 38,-25.32 38,-16.98 38,-16.98 38,-12.82 42.17,-8.65 46.33,-8.65 46.33,-8.65 58.67,-8.65 58.67,-8.65 62.83,-8.65 67,-12.82 67,-16.98 67,-16.98 67,-25.32 67,-25.32 67,-29.48 62.83,-33.65 58.67,-33.65\"/>\n<text text-anchor=\"start\" x=\"46\" y=\"-18.65\" font-family=\"Monospace\" font-size=\"10.00\">q1</text>\n</g>\n<!-- _START&#45;&gt;0 -->\n<g id=\"edge1\" class=\"edge\">\n\n<path fill=\"none\" stroke=\"black\" d=\"M1.14,-21.15C2.84,-21.15 19.1,-21.15 32.69,-21.15\"/>\n<polygon fill=\"black\" stroke=\"black\" points=\"37.92,-21.15 32.92,-23.4 35.42,-21.15 32.92,-21.15 32.92,-21.15 32.92,-21.15 35.42,-21.15 32.92,-18.9 37.92,-21.15 37.92,-21.15\"/>\n</g>\n<!-- 1 -->\n<g id=\"node3\" class=\"node\">\n\n<path fill=\"none\" stroke=\"black\" d=\"M130.33,-72.65C130.33,-72.65 120.67,-72.65 120.67,-72.65 117.83,-72.65 115,-69.82 115,-66.98 115,-66.98 115,-61.32 115,-61.32 115,-58.48 117.83,-55.65 120.67,-55.65 120.67,-55.65 130.33,-55.65 130.33,-55.65 133.17,-55.65 136,-58.48 136,-61.32 136,-61.32 136,-66.98 136,-66.98 136,-69.82 133.17,-72.65 130.33,-72.65\"/>\n<text text-anchor=\"start\" x=\"119\" y=\"-61.65\" font-family=\"Monospace\" font-size=\"10.00\">q2</text>\n</g>\n<!-- 0&#45;&gt;1 -->\n<g id=\"edge3\" class=\"edge\">\n\n<path fill=\"none\" stroke=\"black\" d=\"M67.19,-29.44C79.68,-37.01 98.05,-48.13 110.6,-55.73\"/>\n<polygon fill=\"black\" stroke=\"black\" points=\"114.94,-58.36 109.5,-57.7 112.8,-57.07 110.67,-55.77 110.67,-55.77 110.67,-55.77 112.8,-57.07 111.83,-53.85 114.94,-58.36 114.94,-58.36\"/>\n<text text-anchor=\"start\" x=\"88\" y=\"-51.95\" font-family=\"Monospace\" font-size=\"9.00\">b</text>\n</g>\n<!-- 2 -->\n<g id=\"node4\" class=\"node\">\n\n<path fill=\"none\" stroke=\"black\" d=\"M199.33,-29.65C199.33,-29.65 189.67,-29.65 189.67,-29.65 186.83,-29.65 184,-26.82 184,-23.98 184,-23.98 184,-18.32 184,-18.32 184,-15.48 186.83,-12.65 189.67,-12.65 189.67,-12.65 199.33,-12.65 199.33,-12.65 202.17,-12.65 205,-15.48 205,-18.32 205,-18.32 205,-23.98 205,-23.98 205,-26.82 202.17,-29.65 199.33,-29.65\"/>\n<text text-anchor=\"start\" x=\"188\" y=\"-18.65\" font-family=\"Monospace\" font-size=\"10.00\">q3</text>\n</g>\n<!-- 0&#45;&gt;2 -->\n<g id=\"edge2\" class=\"edge\">\n\n<path fill=\"none\" stroke=\"black\" d=\"M67.18,-21.15C93.63,-21.15 151.56,-21.15 178.8,-21.15\"/>\n<polygon fill=\"black\" stroke=\"black\" points=\"183.82,-21.15 178.82,-23.4 181.32,-21.15 178.82,-21.15 178.82,-21.15 178.82,-21.15 181.32,-21.15 178.82,-18.9 183.82,-21.15 183.82,-21.15\"/>\n<text text-anchor=\"start\" x=\"122.5\" y=\"-26.95\" font-family=\"Monospace\" font-size=\"9.00\">ε</text>\n</g>\n<!-- 1&#45;&gt;1 -->\n<g id=\"edge5\" class=\"edge\">\n\n<path fill=\"none\" stroke=\"black\" d=\"M120.43,-72.84C117.64,-81.33 119.32,-90.65 125.5,-90.65 130.42,-90.65 132.49,-84.73 131.72,-78.03\"/>\n<polygon fill=\"black\" stroke=\"black\" points=\"130.57,-72.84 133.84,-77.23 131.11,-75.28 131.65,-77.72 131.65,-77.72 131.65,-77.72 131.11,-75.28 129.45,-78.21 130.57,-72.84 130.57,-72.84\"/>\n<text text-anchor=\"start\" x=\"122.5\" y=\"-96.45\" font-family=\"Monospace\" font-size=\"9.00\">a</text>\n</g>\n<!-- 1&#45;&gt;2 -->\n<g id=\"edge4\" class=\"edge\">\n\n<path fill=\"none\" stroke=\"black\" d=\"M136.1,-57.99C147.44,-50.71 166.42,-38.53 179.42,-30.19\"/>\n<polygon fill=\"black\" stroke=\"black\" points=\"183.92,-27.3 180.93,-31.9 181.81,-28.65 179.71,-30 179.71,-30 179.71,-30 181.81,-28.65 178.5,-28.11 183.92,-27.3 183.92,-27.3\"/>\n<text text-anchor=\"start\" x=\"157\" y=\"-64.95\" font-family=\"Monospace\" font-size=\"9.00\">a</text>\n<text text-anchor=\"start\" x=\"157\" y=\"-50.95\" font-family=\"Monospace\" font-size=\"9.00\">b</text>\n</g>\n<!-- 2&#45;&gt;0 -->\n<g id=\"edge6\" class=\"edge\">\n\n<path fill=\"none\" stroke=\"black\" d=\"M183.99,-16.73C172.8,-11.8 153.51,-4.11 136,-1.15 113.74,2.61 88.59,-5.29 71.97,-12.24\"/>\n<polygon fill=\"black\" stroke=\"black\" points=\"67.1,-14.35 70.79,-10.3 69.39,-13.36 71.69,-12.36 71.69,-12.36 71.69,-12.36 69.39,-13.36 72.58,-14.43 67.1,-14.35 67.1,-14.35\"/>\n<text text-anchor=\"start\" x=\"122.5\" y=\"-6.95\" font-family=\"Monospace\" font-size=\"9.00\">a</text>\n</g>\n</g>\n</svg>"
          },
          "metadata": {}
        }
      ],
      "source": [
        "n4 = read_csv('nfa-n4.csv')\n",
        "n4"
      ]
    },
    {
      "cell_type": "markdown",
      "metadata": {
        "id": "J-eCcVu8-8eD"
      },
      "source": [
        "**Exercise.**\n",
        "\n",
        "a. Write an NFA that recognizes the language $\\{u \\texttt{000} v \\mid u, v \\in \\{\\texttt{0}, \\texttt{1}\\}^\\ast\\}$, that is, it accepts all bitstrings containing three zeros in a row.\n",
        "\n",
        "b. Last time, we saw how, if a DFA recognizes language $L$, then flipping the accept and non-accept states causes it to recognize $\\overline{L}$. Do the same thing to your NFA and see what language it recognizes. What happened?"
      ]
    },
    {
      "cell_type": "markdown",
      "metadata": {
        "id": "fMt3j3Fe-8eD"
      },
      "source": [
        "## Formal definition\n",
        "\n",
        "Let $\\Sigma_\\varepsilon = \\Sigma \\cup \\{\\varepsilon\\}$. (It would be more Unixy to write this as $\\Sigma^?$ but let's stick with the book's notation.)\n",
        "\n",
        "An NFA is a tuple $(Q, \\Sigma, \\delta, s, F)$, where\n",
        "\n",
        "- $Q$, $\\Sigma$, $s$, and $F$ are as in the definition of DFAs.\n",
        "- $\\delta : Q \\times \\Sigma_\\varepsilon \\rightarrow \\mathcal{P}(Q)$ is the *transition function*.\n",
        "\n",
        "$\\mathcal{P}(Q)$, the *power set* of $Q$, is the set of all subsets of $Q$. So $\\delta$ takes two arguments: the first is a state and the second is a symbol or $\\varepsilon$. And it returns a set of states."
      ]
    },
    {
      "cell_type": "markdown",
      "metadata": {
        "id": "No-cKMtU-8eD"
      },
      "source": [
        "## Equivalence with DFA\n",
        "\n",
        "NFAs seem like they might be a lot more powerful than DFAs, in the sense that they might accept more languages than DFAs do. (Note: the question is not whether NFAs can accept more *strings*, because we can design either a DFA or a NFA that accepts all strings. The question is whether NFAs can accept more *languages*.) Perhaps surprisingly, the answer is no.\n",
        "\n",
        "Any NFA can be converted to an equivalent DFA by what is commonly known as the *subset construction*. The idea is that the DFA uses its state to keep track of all the states the NFA is in at any point in time.\n",
        "\n",
        "### By example\n",
        "\n",
        "Recall our example NFA $N_4$:"
      ]
    },
    {
      "cell_type": "code",
      "execution_count": 7,
      "metadata": {
        "id": "PEqG7fmz-8eD",
        "outputId": "3f5e1dc9-7330-432c-dbb4-9926e5c346d6",
        "colab": {
          "base_uri": "https://localhost:8080/",
          "height": 174
        }
      },
      "outputs": [
        {
          "output_type": "display_data",
          "data": {
            "text/plain": [
              "<IPython.core.display.SVG object>"
            ],
            "image/svg+xml": "<svg xmlns=\"http://www.w3.org/2000/svg\" xmlns:xlink=\"http://www.w3.org/1999/xlink\" width=\"213pt\" height=\"115pt\" viewBox=\"0.00 0.00 213.00 114.65\">\n<g id=\"graph0\" class=\"graph\" transform=\"scale(1 1) rotate(0) translate(4 110.65)\">\n\n<polygon fill=\"white\" stroke=\"transparent\" points=\"-4,4 -4,-110.65 209,-110.65 209,4 -4,4\"/>\n<!-- _START -->\n<g id=\"node1\" class=\"node\">\n\n</g>\n<!-- 0 -->\n<g id=\"node2\" class=\"node\">\n\n<path fill=\"none\" stroke=\"black\" d=\"M57.33,-29.65C57.33,-29.65 47.67,-29.65 47.67,-29.65 44.83,-29.65 42,-26.82 42,-23.98 42,-23.98 42,-18.32 42,-18.32 42,-15.48 44.83,-12.65 47.67,-12.65 47.67,-12.65 57.33,-12.65 57.33,-12.65 60.17,-12.65 63,-15.48 63,-18.32 63,-18.32 63,-23.98 63,-23.98 63,-26.82 60.17,-29.65 57.33,-29.65\"/>\n<path fill=\"none\" stroke=\"black\" d=\"M58.67,-33.65C58.67,-33.65 46.33,-33.65 46.33,-33.65 42.17,-33.65 38,-29.48 38,-25.32 38,-25.32 38,-16.98 38,-16.98 38,-12.82 42.17,-8.65 46.33,-8.65 46.33,-8.65 58.67,-8.65 58.67,-8.65 62.83,-8.65 67,-12.82 67,-16.98 67,-16.98 67,-25.32 67,-25.32 67,-29.48 62.83,-33.65 58.67,-33.65\"/>\n<text text-anchor=\"start\" x=\"46\" y=\"-18.65\" font-family=\"Monospace\" font-size=\"10.00\">q1</text>\n</g>\n<!-- _START&#45;&gt;0 -->\n<g id=\"edge1\" class=\"edge\">\n\n<path fill=\"none\" stroke=\"black\" d=\"M1.14,-21.15C2.84,-21.15 19.1,-21.15 32.69,-21.15\"/>\n<polygon fill=\"black\" stroke=\"black\" points=\"37.92,-21.15 32.92,-23.4 35.42,-21.15 32.92,-21.15 32.92,-21.15 32.92,-21.15 35.42,-21.15 32.92,-18.9 37.92,-21.15 37.92,-21.15\"/>\n</g>\n<!-- 1 -->\n<g id=\"node3\" class=\"node\">\n\n<path fill=\"none\" stroke=\"black\" d=\"M130.33,-72.65C130.33,-72.65 120.67,-72.65 120.67,-72.65 117.83,-72.65 115,-69.82 115,-66.98 115,-66.98 115,-61.32 115,-61.32 115,-58.48 117.83,-55.65 120.67,-55.65 120.67,-55.65 130.33,-55.65 130.33,-55.65 133.17,-55.65 136,-58.48 136,-61.32 136,-61.32 136,-66.98 136,-66.98 136,-69.82 133.17,-72.65 130.33,-72.65\"/>\n<text text-anchor=\"start\" x=\"119\" y=\"-61.65\" font-family=\"Monospace\" font-size=\"10.00\">q2</text>\n</g>\n<!-- 0&#45;&gt;1 -->\n<g id=\"edge3\" class=\"edge\">\n\n<path fill=\"none\" stroke=\"black\" d=\"M67.19,-29.44C79.68,-37.01 98.05,-48.13 110.6,-55.73\"/>\n<polygon fill=\"black\" stroke=\"black\" points=\"114.94,-58.36 109.5,-57.7 112.8,-57.07 110.67,-55.77 110.67,-55.77 110.67,-55.77 112.8,-57.07 111.83,-53.85 114.94,-58.36 114.94,-58.36\"/>\n<text text-anchor=\"start\" x=\"88\" y=\"-51.95\" font-family=\"Monospace\" font-size=\"9.00\">b</text>\n</g>\n<!-- 2 -->\n<g id=\"node4\" class=\"node\">\n\n<path fill=\"none\" stroke=\"black\" d=\"M199.33,-29.65C199.33,-29.65 189.67,-29.65 189.67,-29.65 186.83,-29.65 184,-26.82 184,-23.98 184,-23.98 184,-18.32 184,-18.32 184,-15.48 186.83,-12.65 189.67,-12.65 189.67,-12.65 199.33,-12.65 199.33,-12.65 202.17,-12.65 205,-15.48 205,-18.32 205,-18.32 205,-23.98 205,-23.98 205,-26.82 202.17,-29.65 199.33,-29.65\"/>\n<text text-anchor=\"start\" x=\"188\" y=\"-18.65\" font-family=\"Monospace\" font-size=\"10.00\">q3</text>\n</g>\n<!-- 0&#45;&gt;2 -->\n<g id=\"edge2\" class=\"edge\">\n\n<path fill=\"none\" stroke=\"black\" d=\"M67.18,-21.15C93.63,-21.15 151.56,-21.15 178.8,-21.15\"/>\n<polygon fill=\"black\" stroke=\"black\" points=\"183.82,-21.15 178.82,-23.4 181.32,-21.15 178.82,-21.15 178.82,-21.15 178.82,-21.15 181.32,-21.15 178.82,-18.9 183.82,-21.15 183.82,-21.15\"/>\n<text text-anchor=\"start\" x=\"122.5\" y=\"-26.95\" font-family=\"Monospace\" font-size=\"9.00\">ε</text>\n</g>\n<!-- 1&#45;&gt;1 -->\n<g id=\"edge5\" class=\"edge\">\n\n<path fill=\"none\" stroke=\"black\" d=\"M120.43,-72.84C117.64,-81.33 119.32,-90.65 125.5,-90.65 130.42,-90.65 132.49,-84.73 131.72,-78.03\"/>\n<polygon fill=\"black\" stroke=\"black\" points=\"130.57,-72.84 133.84,-77.23 131.11,-75.28 131.65,-77.72 131.65,-77.72 131.65,-77.72 131.11,-75.28 129.45,-78.21 130.57,-72.84 130.57,-72.84\"/>\n<text text-anchor=\"start\" x=\"122.5\" y=\"-96.45\" font-family=\"Monospace\" font-size=\"9.00\">a</text>\n</g>\n<!-- 1&#45;&gt;2 -->\n<g id=\"edge4\" class=\"edge\">\n\n<path fill=\"none\" stroke=\"black\" d=\"M136.1,-57.99C147.44,-50.71 166.42,-38.53 179.42,-30.19\"/>\n<polygon fill=\"black\" stroke=\"black\" points=\"183.92,-27.3 180.93,-31.9 181.81,-28.65 179.71,-30 179.71,-30 179.71,-30 181.81,-28.65 178.5,-28.11 183.92,-27.3 183.92,-27.3\"/>\n<text text-anchor=\"start\" x=\"157\" y=\"-64.95\" font-family=\"Monospace\" font-size=\"9.00\">a</text>\n<text text-anchor=\"start\" x=\"157\" y=\"-50.95\" font-family=\"Monospace\" font-size=\"9.00\">b</text>\n</g>\n<!-- 2&#45;&gt;0 -->\n<g id=\"edge6\" class=\"edge\">\n\n<path fill=\"none\" stroke=\"black\" d=\"M183.99,-16.73C172.8,-11.8 153.51,-4.11 136,-1.15 113.74,2.61 88.59,-5.29 71.97,-12.24\"/>\n<polygon fill=\"black\" stroke=\"black\" points=\"67.1,-14.35 70.79,-10.3 69.39,-13.36 71.69,-12.36 71.69,-12.36 71.69,-12.36 69.39,-13.36 72.58,-14.43 67.1,-14.35 67.1,-14.35\"/>\n<text text-anchor=\"start\" x=\"122.5\" y=\"-6.95\" font-family=\"Monospace\" font-size=\"9.00\">a</text>\n</g>\n</g>\n</svg>"
          },
          "metadata": {}
        }
      ],
      "source": [
        "n4"
      ]
    },
    {
      "cell_type": "code",
      "execution_count": 8,
      "metadata": {
        "id": "3glfeeRq-8eE",
        "outputId": "7f808625-3c87-4466-c7ce-e6c8173941b0",
        "colab": {
          "base_uri": "https://localhost:8080/",
          "height": 272
        }
      },
      "outputs": [
        {
          "output_type": "display_data",
          "data": {
            "text/plain": [
              "<IPython.core.display.SVG object>"
            ],
            "image/svg+xml": "<svg xmlns=\"http://www.w3.org/2000/svg\" xmlns:xlink=\"http://www.w3.org/1999/xlink\" width=\"488pt\" height=\"188pt\" viewBox=\"0.00 0.00 488.00 188.00\">\n<g id=\"graph0\" class=\"graph\" transform=\"scale(1 1) rotate(0) translate(4 184)\">\n\n<polygon fill=\"white\" stroke=\"transparent\" points=\"-4,4 -4,-184 484,-184 484,4 -4,4\"/>\n<!-- _START -->\n<g id=\"node1\" class=\"node\">\n\n</g>\n<!-- 0 -->\n<g id=\"node2\" class=\"node\">\n\n<path fill=\"none\" stroke=\"black\" d=\"M87.33,-21C87.33,-21 47.67,-21 47.67,-21 44.83,-21 42,-18.17 42,-15.33 42,-15.33 42,-9.67 42,-9.67 42,-6.83 44.83,-4 47.67,-4 47.67,-4 87.33,-4 87.33,-4 90.17,-4 93,-6.83 93,-9.67 93,-9.67 93,-15.33 93,-15.33 93,-18.17 90.17,-21 87.33,-21\"/>\n<path fill=\"none\" stroke=\"black\" d=\"M88.67,-25C88.67,-25 46.33,-25 46.33,-25 42.17,-25 38,-20.83 38,-16.67 38,-16.67 38,-8.33 38,-8.33 38,-4.17 42.17,0 46.33,0 46.33,0 88.67,0 88.67,0 92.83,0 97,-4.17 97,-8.33 97,-8.33 97,-16.67 97,-16.67 97,-20.83 92.83,-25 88.67,-25\"/>\n<text text-anchor=\"start\" x=\"46\" y=\"-10\" font-family=\"Monospace\" font-size=\"10.00\">{q1,q3}</text>\n</g>\n<!-- _START&#45;&gt;0 -->\n<g id=\"edge1\" class=\"edge\">\n\n<path fill=\"none\" stroke=\"black\" d=\"M1.05,-12.5C2,-12.5 17.17,-12.5 32.66,-12.5\"/>\n<polygon fill=\"black\" stroke=\"black\" points=\"37.91,-12.5 32.91,-14.75 35.41,-12.5 32.91,-12.5 32.91,-12.5 32.91,-12.5 35.41,-12.5 32.91,-10.25 37.91,-12.5 37.91,-12.5\"/>\n</g>\n<!-- 0&#45;&gt;0 -->\n<g id=\"edge2\" class=\"edge\">\n\n<path fill=\"none\" stroke=\"black\" d=\"M59.47,-25.03C56.85,-34.03 59.53,-43 67.5,-43 73.97,-43 76.96,-37.08 76.44,-30.03\"/>\n<polygon fill=\"black\" stroke=\"black\" points=\"75.53,-25.03 78.64,-29.55 75.98,-27.49 76.43,-29.95 76.43,-29.95 76.43,-29.95 75.98,-27.49 74.22,-30.35 75.53,-25.03 75.53,-25.03\"/>\n<text text-anchor=\"start\" x=\"64.5\" y=\"-48.8\" font-family=\"Monospace\" font-size=\"9.00\">a</text>\n</g>\n<!-- 1 -->\n<g id=\"node3\" class=\"node\">\n\n<path fill=\"none\" stroke=\"black\" d=\"M172.33,-51C172.33,-51 150.67,-51 150.67,-51 147.83,-51 145,-48.17 145,-45.33 145,-45.33 145,-39.67 145,-39.67 145,-36.83 147.83,-34 150.67,-34 150.67,-34 172.33,-34 172.33,-34 175.17,-34 178,-36.83 178,-39.67 178,-39.67 178,-45.33 178,-45.33 178,-48.17 175.17,-51 172.33,-51\"/>\n<text text-anchor=\"start\" x=\"149\" y=\"-40\" font-family=\"Monospace\" font-size=\"10.00\">{q2}</text>\n</g>\n<!-- 0&#45;&gt;1 -->\n<g id=\"edge3\" class=\"edge\">\n\n<path fill=\"none\" stroke=\"black\" d=\"M97.11,-21.83C110.98,-26.35 127.34,-31.69 139.96,-35.8\"/>\n<polygon fill=\"black\" stroke=\"black\" points=\"144.77,-37.37 139.32,-37.96 142.39,-36.6 140.02,-35.82 140.02,-35.82 140.02,-35.82 142.39,-36.6 140.72,-33.68 144.77,-37.37 144.77,-37.37\"/>\n<text text-anchor=\"start\" x=\"118\" y=\"-37.3\" font-family=\"Monospace\" font-size=\"9.00\">b</text>\n</g>\n<!-- 2 -->\n<g id=\"node4\" class=\"node\">\n\n<path fill=\"none\" stroke=\"black\" d=\"M271.33,-108C271.33,-108 231.67,-108 231.67,-108 228.83,-108 226,-105.17 226,-102.33 226,-102.33 226,-96.67 226,-96.67 226,-93.83 228.83,-91 231.67,-91 231.67,-91 271.33,-91 271.33,-91 274.17,-91 277,-93.83 277,-96.67 277,-96.67 277,-102.33 277,-102.33 277,-105.17 274.17,-108 271.33,-108\"/>\n<text text-anchor=\"start\" x=\"230\" y=\"-97\" font-family=\"Monospace\" font-size=\"10.00\">{q2,q3}</text>\n</g>\n<!-- 1&#45;&gt;2 -->\n<g id=\"edge4\" class=\"edge\">\n\n<path fill=\"none\" stroke=\"black\" d=\"M175.87,-51.16C191.07,-61.01 215.97,-77.13 232.78,-88.02\"/>\n<polygon fill=\"black\" stroke=\"black\" points=\"237.3,-90.95 231.88,-90.12 235.2,-89.59 233.1,-88.23 233.1,-88.23 233.1,-88.23 235.2,-89.59 234.32,-86.34 237.3,-90.95 237.3,-90.95\"/>\n<text text-anchor=\"start\" x=\"199\" y=\"-77.3\" font-family=\"Monospace\" font-size=\"9.00\">a</text>\n</g>\n<!-- 3 -->\n<g id=\"node5\" class=\"node\">\n\n<path fill=\"none\" stroke=\"black\" d=\"M374.33,-51C374.33,-51 352.67,-51 352.67,-51 349.83,-51 347,-48.17 347,-45.33 347,-45.33 347,-39.67 347,-39.67 347,-36.83 349.83,-34 352.67,-34 352.67,-34 374.33,-34 374.33,-34 377.17,-34 380,-36.83 380,-39.67 380,-39.67 380,-45.33 380,-45.33 380,-48.17 377.17,-51 374.33,-51\"/>\n<text text-anchor=\"start\" x=\"351\" y=\"-40\" font-family=\"Monospace\" font-size=\"10.00\">{q3}</text>\n</g>\n<!-- 1&#45;&gt;3 -->\n<g id=\"edge5\" class=\"edge\">\n\n<path fill=\"none\" stroke=\"black\" d=\"M178.19,-42.5C213.97,-42.5 301.59,-42.5 341.76,-42.5\"/>\n<polygon fill=\"black\" stroke=\"black\" points=\"346.88,-42.5 341.88,-44.75 344.38,-42.5 341.88,-42.5 341.88,-42.5 341.88,-42.5 344.38,-42.5 341.88,-40.25 346.88,-42.5 346.88,-42.5\"/>\n<text text-anchor=\"start\" x=\"248.5\" y=\"-48.3\" font-family=\"Monospace\" font-size=\"9.00\">b</text>\n</g>\n<!-- 2&#45;&gt;3 -->\n<g id=\"edge10\" class=\"edge\">\n\n<path fill=\"none\" stroke=\"black\" d=\"M269.21,-90.84C288.76,-80.71 321.14,-63.93 342.15,-53.05\"/>\n<polygon fill=\"black\" stroke=\"black\" points=\"346.71,-50.68 343.3,-54.98 344.49,-51.83 342.27,-52.98 342.27,-52.98 342.27,-52.98 344.49,-51.83 341.23,-50.99 346.71,-50.68 346.71,-50.68\"/>\n<text text-anchor=\"start\" x=\"298\" y=\"-82.3\" font-family=\"Monospace\" font-size=\"9.00\">b</text>\n</g>\n<!-- 5 -->\n<g id=\"node7\" class=\"node\">\n\n<path fill=\"none\" stroke=\"black\" d=\"M392.33,-142C392.33,-142 334.67,-142 334.67,-142 331.83,-142 329,-139.17 329,-136.33 329,-136.33 329,-130.67 329,-130.67 329,-127.83 331.83,-125 334.67,-125 334.67,-125 392.33,-125 392.33,-125 395.17,-125 398,-127.83 398,-130.67 398,-130.67 398,-136.33 398,-136.33 398,-139.17 395.17,-142 392.33,-142\"/>\n<path fill=\"none\" stroke=\"black\" d=\"M393.67,-146C393.67,-146 333.33,-146 333.33,-146 329.17,-146 325,-141.83 325,-137.67 325,-137.67 325,-129.33 325,-129.33 325,-125.17 329.17,-121 333.33,-121 333.33,-121 393.67,-121 393.67,-121 397.83,-121 402,-125.17 402,-129.33 402,-129.33 402,-137.67 402,-137.67 402,-141.83 397.83,-146 393.67,-146\"/>\n<text text-anchor=\"start\" x=\"333\" y=\"-131\" font-family=\"Monospace\" font-size=\"10.00\">{q1,q2,q3}</text>\n</g>\n<!-- 2&#45;&gt;5 -->\n<g id=\"edge9\" class=\"edge\">\n\n<path fill=\"none\" stroke=\"black\" d=\"M260.67,-108.15C268.6,-115.89 281.4,-126.73 295,-131.5 302.79,-134.23 311.39,-135.61 319.78,-136.18\"/>\n<polygon fill=\"black\" stroke=\"black\" points=\"324.97,-136.43 319.87,-138.44 322.47,-136.31 319.98,-136.19 319.98,-136.19 319.98,-136.19 322.47,-136.31 320.08,-133.94 324.97,-136.43 324.97,-136.43\"/>\n<text text-anchor=\"start\" x=\"298\" y=\"-139.3\" font-family=\"Monospace\" font-size=\"9.00\">a</text>\n</g>\n<!-- 3&#45;&gt;0 -->\n<g id=\"edge6\" class=\"edge\">\n\n<path fill=\"none\" stroke=\"black\" d=\"M346.74,-40.16C318.83,-36.08 258.86,-27.61 208,-22.5 171.95,-18.88 130.53,-16.08 102.25,-14.38\"/>\n<polygon fill=\"black\" stroke=\"black\" points=\"97.13,-14.07 102.25,-12.12 99.62,-14.22 102.12,-14.37 102.12,-14.37 102.12,-14.37 99.62,-14.22 101.99,-16.62 97.13,-14.07 97.13,-14.07\"/>\n<text text-anchor=\"start\" x=\"199\" y=\"-28.3\" font-family=\"Monospace\" font-size=\"9.00\">a</text>\n</g>\n<!-- 4 -->\n<g id=\"node6\" class=\"node\">\n\n<path fill=\"none\" stroke=\"black\" d=\"M469.83,-51C469.83,-51 460.17,-51 460.17,-51 457.33,-51 454.5,-48.17 454.5,-45.33 454.5,-45.33 454.5,-39.67 454.5,-39.67 454.5,-36.83 457.33,-34 460.17,-34 460.17,-34 469.83,-34 469.83,-34 472.67,-34 475.5,-36.83 475.5,-39.67 475.5,-39.67 475.5,-45.33 475.5,-45.33 475.5,-48.17 472.67,-51 469.83,-51\"/>\n<text text-anchor=\"start\" x=\"458.5\" y=\"-40\" font-family=\"Monospace\" font-size=\"10.00\">∅</text>\n</g>\n<!-- 3&#45;&gt;4 -->\n<g id=\"edge7\" class=\"edge\">\n\n<path fill=\"none\" stroke=\"black\" d=\"M380.05,-42.5C398.87,-42.5 430.35,-42.5 448.95,-42.5\"/>\n<polygon fill=\"black\" stroke=\"black\" points=\"454.28,-42.5 449.28,-44.75 451.78,-42.5 449.28,-42.5 449.28,-42.5 449.28,-42.5 451.78,-42.5 449.28,-40.25 454.28,-42.5 454.28,-42.5\"/>\n<text text-anchor=\"start\" x=\"423\" y=\"-48.3\" font-family=\"Monospace\" font-size=\"9.00\">b</text>\n</g>\n<!-- 4&#45;&gt;4 -->\n<g id=\"edge8\" class=\"edge\">\n\n<path fill=\"none\" stroke=\"black\" d=\"M459.34,-51.19C456.21,-59.67 458.1,-69 465,-69 470.5,-69 472.82,-63.08 471.95,-56.38\"/>\n<polygon fill=\"black\" stroke=\"black\" points=\"470.66,-51.19 474.05,-55.5 471.26,-53.61 471.86,-56.04 471.86,-56.04 471.86,-56.04 471.26,-53.61 469.68,-56.58 470.66,-51.19 470.66,-51.19\"/>\n<text text-anchor=\"start\" x=\"462\" y=\"-88.8\" font-family=\"Monospace\" font-size=\"9.00\">a</text>\n<text text-anchor=\"start\" x=\"462\" y=\"-74.8\" font-family=\"Monospace\" font-size=\"9.00\">b</text>\n</g>\n<!-- 5&#45;&gt;2 -->\n<g id=\"edge12\" class=\"edge\">\n\n<path fill=\"none\" stroke=\"black\" d=\"M333.43,-120.96C325.01,-117.6 315.72,-114.17 307,-111.5 299.02,-109.06 290.24,-106.9 282.11,-105.11\"/>\n<polygon fill=\"black\" stroke=\"black\" points=\"277.13,-104.05 282.49,-102.9 279.58,-104.57 282.02,-105.1 282.02,-105.1 282.02,-105.1 279.58,-104.57 281.55,-107.3 277.13,-104.05 277.13,-104.05\"/>\n<text text-anchor=\"start\" x=\"298\" y=\"-117.3\" font-family=\"Monospace\" font-size=\"9.00\">b</text>\n</g>\n<!-- 5&#45;&gt;5 -->\n<g id=\"edge11\" class=\"edge\">\n\n<path fill=\"none\" stroke=\"black\" d=\"M353.13,-146.03C349.75,-155.03 353.21,-164 363.5,-164 371.86,-164 375.71,-158.08 375.05,-151.03\"/>\n<polygon fill=\"black\" stroke=\"black\" points=\"373.87,-146.03 377.21,-150.38 374.45,-148.47 375.02,-150.9 375.02,-150.9 375.02,-150.9 374.45,-148.47 372.83,-151.41 373.87,-146.03 373.87,-146.03\"/>\n<text text-anchor=\"start\" x=\"360.5\" y=\"-169.8\" font-family=\"Monospace\" font-size=\"9.00\">a</text>\n</g>\n</g>\n</svg>"
          },
          "metadata": {}
        }
      ],
      "source": [
        "d4 = determinize(n4)\n",
        "to_graph(d4)"
      ]
    },
    {
      "cell_type": "markdown",
      "metadata": {
        "id": "GgFo8jHo-8eE"
      },
      "source": [
        "To see how this works, it may be clearer to first run both $N_4$ and its determinized version on an example string. Do you see how they relate to each other?"
      ]
    },
    {
      "cell_type": "code",
      "execution_count": 9,
      "metadata": {
        "id": "qjM-MdeJ-8eE",
        "outputId": "c30bf53e-47eb-4f91-8afa-7db740c1d316",
        "colab": {
          "base_uri": "https://localhost:8080/",
          "height": 122
        }
      },
      "outputs": [
        {
          "output_type": "display_data",
          "data": {
            "text/plain": [
              "<IPython.core.display.SVG object>"
            ],
            "image/svg+xml": "<svg xmlns=\"http://www.w3.org/2000/svg\" xmlns:xlink=\"http://www.w3.org/1999/xlink\" width=\"477pt\" height=\"76pt\" viewBox=\"0.00 0.00 477.00 75.50\">\n<g id=\"graph0\" class=\"graph\" transform=\"scale(1 1) rotate(0) translate(4 71.5)\">\n\n<polygon fill=\"white\" stroke=\"transparent\" points=\"-4,4 -4,-71.5 473,-71.5 473,4 -4,4\"/>\n<!-- _START -->\n<g id=\"node1\" class=\"node\">\n\n</g>\n<!-- 0 -->\n<g id=\"node2\" class=\"node\">\n\n<path fill=\"none\" stroke=\"black\" d=\"M83.33,-21C83.33,-21 43.67,-21 43.67,-21 40.83,-21 38,-18.17 38,-15.33 38,-15.33 38,-9.67 38,-9.67 38,-6.83 40.83,-4 43.67,-4 43.67,-4 83.33,-4 83.33,-4 86.17,-4 89,-6.83 89,-9.67 89,-9.67 89,-15.33 89,-15.33 89,-18.17 86.17,-21 83.33,-21\"/>\n<text text-anchor=\"start\" x=\"42\" y=\"-10\" font-family=\"Monospace\" font-size=\"10.00\">{q1,q3}</text>\n</g>\n<!-- _START&#45;&gt;0 -->\n<g id=\"edge1\" class=\"edge\">\n\n<path fill=\"none\" stroke=\"black\" d=\"M1.04,-12.5C1.98,-12.5 17.45,-12.5 32.64,-12.5\"/>\n<polygon fill=\"black\" stroke=\"black\" points=\"37.76,-12.5 32.76,-14.75 35.26,-12.5 32.76,-12.5 32.76,-12.5 32.76,-12.5 35.26,-12.5 32.76,-10.25 37.76,-12.5 37.76,-12.5\"/>\n</g>\n<!-- 7 -->\n<g id=\"node9\" class=\"node\">\n\n<path fill=\"none\" stroke=\"black\" d=\"M167.33,-21C167.33,-21 145.67,-21 145.67,-21 142.83,-21 140,-18.17 140,-15.33 140,-15.33 140,-9.67 140,-9.67 140,-6.83 142.83,-4 145.67,-4 145.67,-4 167.33,-4 167.33,-4 170.17,-4 173,-6.83 173,-9.67 173,-9.67 173,-15.33 173,-15.33 173,-18.17 170.17,-21 167.33,-21\"/>\n<text text-anchor=\"start\" x=\"144\" y=\"-10\" font-family=\"Monospace\" font-size=\"10.00\">{q2}</text>\n</g>\n<!-- 0&#45;&gt;7 -->\n<g id=\"edge2\" class=\"edge\">\n\n<path fill=\"none\" stroke=\"black\" d=\"M89.37,-12.5C103.58,-12.5 121.21,-12.5 134.69,-12.5\"/>\n<polygon fill=\"black\" stroke=\"black\" points=\"139.82,-12.5 134.82,-14.75 137.32,-12.5 134.82,-12.5 134.82,-12.5 134.82,-12.5 137.32,-12.5 134.82,-10.25 139.82,-12.5 139.82,-12.5\"/>\n</g>\n<!-- 1 -->\n<g id=\"node3\" class=\"node\">\n\n</g>\n<!-- 2 -->\n<g id=\"node4\" class=\"node\">\n\n</g>\n<!-- 1&#45;&gt;2 -->\n<g id=\"edge9\" class=\"edge\">\n\n<path fill=\"none\" stroke=\"white\" d=\"M362.27,-51.5C377.23,-51.5 398.29,-51.5 414.48,-51.5\"/>\n<polygon fill=\"white\" stroke=\"white\" points=\"419.77,-51.5 414.77,-53.75 417.27,-51.5 414.77,-51.5 414.77,-51.5 414.77,-51.5 417.27,-51.5 414.77,-49.25 419.77,-51.5 419.77,-51.5\"/>\n<text text-anchor=\"start\" x=\"383\" y=\"-57.3\" font-family=\"Monospace\" font-size=\"9.00\">a</text>\n</g>\n<!-- 3 -->\n<g id=\"node5\" class=\"node\">\n\n</g>\n<!-- 3&#45;&gt;1 -->\n<g id=\"edge8\" class=\"edge\">\n\n<path fill=\"none\" stroke=\"white\" d=\"M269.36,-51.5C283.36,-51.5 302.56,-51.5 317.63,-51.5\"/>\n<polygon fill=\"white\" stroke=\"white\" points=\"322.98,-51.5 317.98,-53.75 320.48,-51.5 317.98,-51.5 317.98,-51.5 317.98,-51.5 320.48,-51.5 317.98,-49.25 322.98,-51.5 322.98,-51.5\"/>\n<text text-anchor=\"start\" x=\"296\" y=\"-57.3\" font-family=\"Monospace\" font-size=\"9.00\">b</text>\n</g>\n<!-- 4 -->\n<g id=\"node6\" class=\"node\">\n\n</g>\n<!-- 9 -->\n<g id=\"node11\" class=\"node\">\n\n</g>\n<!-- 4&#45;&gt;9 -->\n<g id=\"edge6\" class=\"edge\">\n\n<path fill=\"none\" stroke=\"white\" d=\"M83.36,-51.5C97.36,-51.5 116.56,-51.5 131.63,-51.5\"/>\n<polygon fill=\"white\" stroke=\"white\" points=\"136.98,-51.5 131.98,-53.75 134.48,-51.5 131.98,-51.5 131.98,-51.5 131.98,-51.5 134.48,-51.5 131.98,-49.25 136.98,-51.5 136.98,-51.5\"/>\n<text text-anchor=\"start\" x=\"110\" y=\"-57.3\" font-family=\"Monospace\" font-size=\"9.00\">b</text>\n</g>\n<!-- 5 -->\n<g id=\"node7\" class=\"node\">\n\n<path fill=\"none\" stroke=\"black\" d=\"M459.33,-21C459.33,-21 419.67,-21 419.67,-21 416.83,-21 414,-18.17 414,-15.33 414,-15.33 414,-9.67 414,-9.67 414,-6.83 416.83,-4 419.67,-4 419.67,-4 459.33,-4 459.33,-4 462.17,-4 465,-6.83 465,-9.67 465,-9.67 465,-15.33 465,-15.33 465,-18.17 462.17,-21 459.33,-21\"/>\n<path fill=\"none\" stroke=\"black\" d=\"M460.67,-25C460.67,-25 418.33,-25 418.33,-25 414.17,-25 410,-20.83 410,-16.67 410,-16.67 410,-8.33 410,-8.33 410,-4.17 414.17,0 418.33,0 418.33,0 460.67,0 460.67,0 464.83,0 469,-4.17 469,-8.33 469,-8.33 469,-16.67 469,-16.67 469,-20.83 464.83,-25 460.67,-25\"/>\n<text text-anchor=\"start\" x=\"418\" y=\"-10\" font-family=\"Monospace\" font-size=\"10.00\">{q1,q3}</text>\n</g>\n<!-- 6 -->\n<g id=\"node8\" class=\"node\">\n\n<path fill=\"none\" stroke=\"black\" d=\"M269.33,-21C269.33,-21 229.67,-21 229.67,-21 226.83,-21 224,-18.17 224,-15.33 224,-15.33 224,-9.67 224,-9.67 224,-6.83 226.83,-4 229.67,-4 229.67,-4 269.33,-4 269.33,-4 272.17,-4 275,-6.83 275,-9.67 275,-9.67 275,-15.33 275,-15.33 275,-18.17 272.17,-21 269.33,-21\"/>\n<text text-anchor=\"start\" x=\"228\" y=\"-10\" font-family=\"Monospace\" font-size=\"10.00\">{q2,q3}</text>\n</g>\n<!-- 8 -->\n<g id=\"node10\" class=\"node\">\n\n<path fill=\"none\" stroke=\"black\" d=\"M353.33,-21C353.33,-21 331.67,-21 331.67,-21 328.83,-21 326,-18.17 326,-15.33 326,-15.33 326,-9.67 326,-9.67 326,-6.83 328.83,-4 331.67,-4 331.67,-4 353.33,-4 353.33,-4 356.17,-4 359,-6.83 359,-9.67 359,-9.67 359,-15.33 359,-15.33 359,-18.17 356.17,-21 353.33,-21\"/>\n<text text-anchor=\"start\" x=\"330\" y=\"-10\" font-family=\"Monospace\" font-size=\"10.00\">{q3}</text>\n</g>\n<!-- 6&#45;&gt;8 -->\n<g id=\"edge4\" class=\"edge\">\n\n<path fill=\"none\" stroke=\"black\" d=\"M275.37,-12.5C289.58,-12.5 307.21,-12.5 320.69,-12.5\"/>\n<polygon fill=\"black\" stroke=\"black\" points=\"325.82,-12.5 320.82,-14.75 323.32,-12.5 320.82,-12.5 320.82,-12.5 320.82,-12.5 323.32,-12.5 320.82,-10.25 325.82,-12.5 325.82,-12.5\"/>\n</g>\n<!-- 7&#45;&gt;6 -->\n<g id=\"edge3\" class=\"edge\">\n\n<path fill=\"none\" stroke=\"black\" d=\"M173.35,-12.5C185.89,-12.5 203.74,-12.5 218.9,-12.5\"/>\n<polygon fill=\"black\" stroke=\"black\" points=\"223.93,-12.5 218.93,-14.75 221.43,-12.5 218.93,-12.5 218.93,-12.5 218.93,-12.5 221.43,-12.5 218.93,-10.25 223.93,-12.5 223.93,-12.5\"/>\n</g>\n<!-- 8&#45;&gt;5 -->\n<g id=\"edge5\" class=\"edge\">\n\n<path fill=\"none\" stroke=\"black\" d=\"M359.19,-12.5C371.5,-12.5 389.08,-12.5 404.57,-12.5\"/>\n<polygon fill=\"black\" stroke=\"black\" points=\"409.73,-12.5 404.73,-14.75 407.23,-12.5 404.73,-12.5 404.73,-12.5 404.73,-12.5 407.23,-12.5 404.73,-10.25 409.73,-12.5 409.73,-12.5\"/>\n</g>\n<!-- 9&#45;&gt;3 -->\n<g id=\"edge7\" class=\"edge\">\n\n<path fill=\"none\" stroke=\"white\" d=\"M176.36,-51.5C190.36,-51.5 209.56,-51.5 224.63,-51.5\"/>\n<polygon fill=\"white\" stroke=\"white\" points=\"229.98,-51.5 224.98,-53.75 227.48,-51.5 224.98,-51.5 224.98,-51.5 224.98,-51.5 227.48,-51.5 224.98,-49.25 229.98,-51.5 229.98,-51.5\"/>\n<text text-anchor=\"start\" x=\"197\" y=\"-57.3\" font-family=\"Monospace\" font-size=\"9.00\">a</text>\n</g>\n</g>\n</svg>"
          },
          "metadata": {}
        }
      ],
      "source": [
        "run(d4, \"b a b a\")"
      ]
    },
    {
      "cell_type": "code",
      "execution_count": 10,
      "metadata": {
        "id": "DmGAuCcv-8eF",
        "outputId": "a1e66fe8-47c1-4c8f-e983-526c0f0dfd69",
        "colab": {
          "base_uri": "https://localhost:8080/",
          "height": 234
        }
      },
      "outputs": [
        {
          "output_type": "display_data",
          "data": {
            "text/plain": [
              "<IPython.core.display.SVG object>"
            ],
            "image/svg+xml": "<svg xmlns=\"http://www.w3.org/2000/svg\" xmlns:xlink=\"http://www.w3.org/1999/xlink\" width=\"433pt\" height=\"160pt\" viewBox=\"0.00 0.00 433.00 159.50\">\n<g id=\"graph0\" class=\"graph\" transform=\"scale(1 1) rotate(0) translate(4 155.5)\">\n\n<polygon fill=\"white\" stroke=\"transparent\" points=\"-4,4 -4,-155.5 429,-155.5 429,4 -4,4\"/>\n<!-- _START -->\n<g id=\"node1\" class=\"node\">\n\n</g>\n<!-- 1 -->\n<g id=\"node3\" class=\"node\">\n\n<path fill=\"none\" stroke=\"black\" d=\"M62.33,-94C62.33,-94 52.67,-94 52.67,-94 49.83,-94 47,-91.17 47,-88.33 47,-88.33 47,-82.67 47,-82.67 47,-79.83 49.83,-77 52.67,-77 52.67,-77 62.33,-77 62.33,-77 65.17,-77 68,-79.83 68,-82.67 68,-82.67 68,-88.33 68,-88.33 68,-91.17 65.17,-94 62.33,-94\"/>\n<text text-anchor=\"start\" x=\"51\" y=\"-83\" font-family=\"Monospace\" font-size=\"10.00\">q1</text>\n</g>\n<!-- _START&#45;&gt;1 -->\n<g id=\"edge1\" class=\"edge\">\n\n<path fill=\"none\" stroke=\"black\" d=\"M1.16,-85.5C3.27,-85.5 25.82,-85.5 41.47,-85.5\"/>\n<polygon fill=\"black\" stroke=\"black\" points=\"46.88,-85.5 41.88,-87.75 44.38,-85.5 41.88,-85.5 41.88,-85.5 41.88,-85.5 44.38,-85.5 41.88,-83.25 46.88,-85.5 46.88,-85.5\"/>\n</g>\n<!-- 0 -->\n<g id=\"node2\" class=\"node\">\n\n<path fill=\"none\" stroke=\"black\" d=\"M62.33,-41C62.33,-41 52.67,-41 52.67,-41 49.83,-41 47,-38.17 47,-35.33 47,-35.33 47,-29.67 47,-29.67 47,-26.83 49.83,-24 52.67,-24 52.67,-24 62.33,-24 62.33,-24 65.17,-24 68,-26.83 68,-29.67 68,-29.67 68,-35.33 68,-35.33 68,-38.17 65.17,-41 62.33,-41\"/>\n<text text-anchor=\"start\" x=\"51\" y=\"-30\" font-family=\"Monospace\" font-size=\"10.00\">q3</text>\n</g>\n<!-- 1&#45;&gt;0 -->\n<g id=\"edge2\" class=\"edge\">\n\n<path fill=\"none\" stroke=\"black\" d=\"M57.5,-76.85C57.5,-66.63 57.5,-56.42 57.5,-46.21\"/>\n<polygon fill=\"black\" stroke=\"black\" points=\"57.5,-41.2 59.75,-46.2 57.5,-43.7 57.5,-46.2 57.5,-46.2 57.5,-46.2 57.5,-43.7 55.25,-46.2 57.5,-41.2 57.5,-41.2\"/>\n</g>\n<!-- 2 -->\n<g id=\"node4\" class=\"node\">\n\n<path fill=\"none\" stroke=\"black\" d=\"M149.33,-94C149.33,-94 139.67,-94 139.67,-94 136.83,-94 134,-91.17 134,-88.33 134,-88.33 134,-82.67 134,-82.67 134,-79.83 136.83,-77 139.67,-77 139.67,-77 149.33,-77 149.33,-77 152.17,-77 155,-79.83 155,-82.67 155,-82.67 155,-88.33 155,-88.33 155,-91.17 152.17,-94 149.33,-94\"/>\n<text text-anchor=\"start\" x=\"138\" y=\"-83\" font-family=\"Monospace\" font-size=\"10.00\">q2</text>\n</g>\n<!-- 1&#45;&gt;2 -->\n<g id=\"edge3\" class=\"edge\">\n\n<path fill=\"none\" stroke=\"black\" d=\"M68.25,-85.5C82.98,-85.5 111.03,-85.5 128.41,-85.5\"/>\n<polygon fill=\"black\" stroke=\"black\" points=\"133.86,-85.5 128.86,-87.75 131.36,-85.5 128.86,-85.5 128.86,-85.5 128.86,-85.5 131.36,-85.5 128.86,-83.25 133.86,-85.5 133.86,-85.5\"/>\n</g>\n<!-- 3 -->\n<g id=\"node5\" class=\"node\">\n\n<path fill=\"none\" stroke=\"black\" d=\"M236.33,-109C236.33,-109 226.67,-109 226.67,-109 223.83,-109 221,-106.17 221,-103.33 221,-103.33 221,-97.67 221,-97.67 221,-94.83 223.83,-92 226.67,-92 226.67,-92 236.33,-92 236.33,-92 239.17,-92 242,-94.83 242,-97.67 242,-97.67 242,-103.33 242,-103.33 242,-106.17 239.17,-109 236.33,-109\"/>\n<text text-anchor=\"start\" x=\"225\" y=\"-98\" font-family=\"Monospace\" font-size=\"10.00\">q3</text>\n</g>\n<!-- 2&#45;&gt;3 -->\n<g id=\"edge4\" class=\"edge\">\n\n<path fill=\"none\" stroke=\"black\" d=\"M155.25,-87.22C170.11,-89.84 198.52,-94.86 215.86,-97.92\"/>\n<polygon fill=\"black\" stroke=\"black\" points=\"220.86,-98.8 215.55,-100.15 218.4,-98.36 215.94,-97.93 215.94,-97.93 215.94,-97.93 218.4,-98.36 216.33,-95.71 220.86,-98.8 220.86,-98.8\"/>\n</g>\n<!-- 4 -->\n<g id=\"node6\" class=\"node\">\n\n<path fill=\"none\" stroke=\"black\" d=\"M236.33,-74C236.33,-74 226.67,-74 226.67,-74 223.83,-74 221,-71.17 221,-68.33 221,-68.33 221,-62.67 221,-62.67 221,-59.83 223.83,-57 226.67,-57 226.67,-57 236.33,-57 236.33,-57 239.17,-57 242,-59.83 242,-62.67 242,-62.67 242,-68.33 242,-68.33 242,-71.17 239.17,-74 236.33,-74\"/>\n<text text-anchor=\"start\" x=\"225\" y=\"-63\" font-family=\"Monospace\" font-size=\"10.00\">q2</text>\n</g>\n<!-- 2&#45;&gt;4 -->\n<g id=\"edge5\" class=\"edge\">\n\n<path fill=\"none\" stroke=\"black\" d=\"M155.25,-83.21C170.11,-79.71 198.52,-73.02 215.86,-68.94\"/>\n<polygon fill=\"black\" stroke=\"black\" points=\"220.86,-67.77 216.51,-71.1 218.43,-68.34 216,-68.91 216,-68.91 216,-68.91 218.43,-68.34 215.48,-66.72 220.86,-67.77 220.86,-67.77\"/>\n</g>\n<!-- 5 -->\n<g id=\"node7\" class=\"node\">\n\n<path fill=\"none\" stroke=\"black\" d=\"M323.33,-74C323.33,-74 313.67,-74 313.67,-74 310.83,-74 308,-71.17 308,-68.33 308,-68.33 308,-62.67 308,-62.67 308,-59.83 310.83,-57 313.67,-57 313.67,-57 323.33,-57 323.33,-57 326.17,-57 329,-59.83 329,-62.67 329,-62.67 329,-68.33 329,-68.33 329,-71.17 326.17,-74 323.33,-74\"/>\n<text text-anchor=\"start\" x=\"312\" y=\"-63\" font-family=\"Monospace\" font-size=\"10.00\">q3</text>\n</g>\n<!-- 4&#45;&gt;5 -->\n<g id=\"edge6\" class=\"edge\">\n\n<path fill=\"none\" stroke=\"black\" d=\"M242.25,-65.5C256.98,-65.5 285.03,-65.5 302.41,-65.5\"/>\n<polygon fill=\"black\" stroke=\"black\" points=\"307.86,-65.5 302.86,-67.75 305.36,-65.5 302.86,-65.5 302.86,-65.5 302.86,-65.5 305.36,-65.5 302.86,-63.25 307.86,-65.5 307.86,-65.5\"/>\n</g>\n<!-- 6 -->\n<g id=\"node8\" class=\"node\">\n\n<path fill=\"none\" stroke=\"black\" d=\"M410.33,-74C410.33,-74 400.67,-74 400.67,-74 397.83,-74 395,-71.17 395,-68.33 395,-68.33 395,-62.67 395,-62.67 395,-59.83 397.83,-57 400.67,-57 400.67,-57 410.33,-57 410.33,-57 413.17,-57 416,-59.83 416,-62.67 416,-62.67 416,-68.33 416,-68.33 416,-71.17 413.17,-74 410.33,-74\"/>\n<path fill=\"none\" stroke=\"black\" d=\"M411.67,-78C411.67,-78 399.33,-78 399.33,-78 395.17,-78 391,-73.83 391,-69.67 391,-69.67 391,-61.33 391,-61.33 391,-57.17 395.17,-53 399.33,-53 399.33,-53 411.67,-53 411.67,-53 415.83,-53 420,-57.17 420,-61.33 420,-61.33 420,-69.67 420,-69.67 420,-73.83 415.83,-78 411.67,-78\"/>\n<text text-anchor=\"start\" x=\"399\" y=\"-63\" font-family=\"Monospace\" font-size=\"10.00\">q1</text>\n</g>\n<!-- 5&#45;&gt;6 -->\n<g id=\"edge7\" class=\"edge\">\n\n<path fill=\"none\" stroke=\"black\" d=\"M329.25,-65.5C343,-65.5 368.36,-65.5 385.81,-65.5\"/>\n<polygon fill=\"black\" stroke=\"black\" points=\"390.96,-65.5 385.96,-67.75 388.46,-65.5 385.96,-65.5 385.96,-65.5 385.96,-65.5 388.46,-65.5 385.96,-63.25 390.96,-65.5 390.96,-65.5\"/>\n</g>\n<!-- 7 -->\n<g id=\"node9\" class=\"node\">\n\n<path fill=\"none\" stroke=\"black\" d=\"M410.33,-17C410.33,-17 400.67,-17 400.67,-17 397.83,-17 395,-14.17 395,-11.33 395,-11.33 395,-5.67 395,-5.67 395,-2.83 397.83,0 400.67,0 400.67,0 410.33,0 410.33,0 413.17,0 416,-2.83 416,-5.67 416,-5.67 416,-11.33 416,-11.33 416,-14.17 413.17,-17 410.33,-17\"/>\n<text text-anchor=\"start\" x=\"399\" y=\"-6\" font-family=\"Monospace\" font-size=\"10.00\">q3</text>\n</g>\n<!-- 6&#45;&gt;7 -->\n<g id=\"edge8\" class=\"edge\">\n\n<path fill=\"none\" stroke=\"black\" d=\"M405.5,-52.73C405.5,-42.7 405.5,-32.67 405.5,-22.65\"/>\n<polygon fill=\"black\" stroke=\"black\" points=\"405.5,-17.41 407.75,-22.41 405.5,-19.91 405.5,-22.41 405.5,-22.41 405.5,-22.41 405.5,-19.91 403.25,-22.41 405.5,-17.41 405.5,-17.41\"/>\n</g>\n<!-- 8 -->\n<g id=\"node10\" class=\"node\">\n\n</g>\n<!-- 10 -->\n<g id=\"node12\" class=\"node\">\n\n</g>\n<!-- 8&#45;&gt;10 -->\n<g id=\"edge10\" class=\"edge\">\n\n<path fill=\"none\" stroke=\"white\" d=\"M164.36,-135.5C176.89,-135.5 193.42,-135.5 206.83,-135.5\"/>\n<polygon fill=\"white\" stroke=\"white\" points=\"211.98,-135.5 206.98,-137.75 209.48,-135.5 206.98,-135.5 206.98,-135.5 206.98,-135.5 209.48,-135.5 206.98,-133.25 211.98,-135.5 211.98,-135.5\"/>\n<text text-anchor=\"start\" x=\"185\" y=\"-141.3\" font-family=\"Monospace\" font-size=\"9.00\">a</text>\n</g>\n<!-- 9 -->\n<g id=\"node11\" class=\"node\">\n\n</g>\n<!-- 9&#45;&gt;8 -->\n<g id=\"edge9\" class=\"edge\">\n\n<path fill=\"none\" stroke=\"white\" d=\"M77.36,-135.5C89.89,-135.5 106.42,-135.5 119.83,-135.5\"/>\n<polygon fill=\"white\" stroke=\"white\" points=\"124.98,-135.5 119.98,-137.75 122.48,-135.5 119.98,-135.5 119.98,-135.5 119.98,-135.5 122.48,-135.5 119.98,-133.25 124.98,-135.5 124.98,-135.5\"/>\n<text text-anchor=\"start\" x=\"98\" y=\"-141.3\" font-family=\"Monospace\" font-size=\"9.00\">b</text>\n</g>\n<!-- 11 -->\n<g id=\"node13\" class=\"node\">\n\n</g>\n<!-- 10&#45;&gt;11 -->\n<g id=\"edge11\" class=\"edge\">\n\n<path fill=\"none\" stroke=\"white\" d=\"M251.36,-135.5C263.89,-135.5 280.42,-135.5 293.83,-135.5\"/>\n<polygon fill=\"white\" stroke=\"white\" points=\"298.98,-135.5 293.98,-137.75 296.48,-135.5 293.98,-135.5 293.98,-135.5 293.98,-135.5 296.48,-135.5 293.98,-133.25 298.98,-135.5 298.98,-135.5\"/>\n<text text-anchor=\"start\" x=\"272\" y=\"-141.3\" font-family=\"Monospace\" font-size=\"9.00\">b</text>\n</g>\n<!-- 12 -->\n<g id=\"node14\" class=\"node\">\n\n</g>\n<!-- 11&#45;&gt;12 -->\n<g id=\"edge12\" class=\"edge\">\n\n<path fill=\"none\" stroke=\"white\" d=\"M338.36,-135.5C350.89,-135.5 367.42,-135.5 380.83,-135.5\"/>\n<polygon fill=\"white\" stroke=\"white\" points=\"385.98,-135.5 380.98,-137.75 383.48,-135.5 380.98,-135.5 380.98,-135.5 380.98,-135.5 383.48,-135.5 380.98,-133.25 385.98,-135.5 385.98,-135.5\"/>\n<text text-anchor=\"start\" x=\"359\" y=\"-141.3\" font-family=\"Monospace\" font-size=\"9.00\">a</text>\n</g>\n</g>\n</svg>"
          },
          "metadata": {}
        }
      ],
      "source": [
        "run(n4, \"b a b a\")"
      ]
    },
    {
      "cell_type": "code",
      "execution_count": 11,
      "metadata": {
        "id": "mPS7zL4s-8eF",
        "outputId": "6c4ae8d2-194e-42c9-d217-4ca91e40e47f",
        "colab": {
          "base_uri": "https://localhost:8080/",
          "height": 174
        }
      },
      "outputs": [
        {
          "output_type": "display_data",
          "data": {
            "text/plain": [
              "<IPython.core.display.SVG object>"
            ],
            "image/svg+xml": "<svg xmlns=\"http://www.w3.org/2000/svg\" xmlns:xlink=\"http://www.w3.org/1999/xlink\" width=\"213pt\" height=\"115pt\" viewBox=\"0.00 0.00 213.00 114.65\">\n<g id=\"graph0\" class=\"graph\" transform=\"scale(1 1) rotate(0) translate(4 110.65)\">\n\n<polygon fill=\"white\" stroke=\"transparent\" points=\"-4,4 -4,-110.65 209,-110.65 209,4 -4,4\"/>\n<!-- _START -->\n<g id=\"node1\" class=\"node\">\n\n</g>\n<!-- 0 -->\n<g id=\"node2\" class=\"node\">\n\n<path fill=\"none\" stroke=\"black\" d=\"M57.33,-29.65C57.33,-29.65 47.67,-29.65 47.67,-29.65 44.83,-29.65 42,-26.82 42,-23.98 42,-23.98 42,-18.32 42,-18.32 42,-15.48 44.83,-12.65 47.67,-12.65 47.67,-12.65 57.33,-12.65 57.33,-12.65 60.17,-12.65 63,-15.48 63,-18.32 63,-18.32 63,-23.98 63,-23.98 63,-26.82 60.17,-29.65 57.33,-29.65\"/>\n<path fill=\"none\" stroke=\"black\" d=\"M58.67,-33.65C58.67,-33.65 46.33,-33.65 46.33,-33.65 42.17,-33.65 38,-29.48 38,-25.32 38,-25.32 38,-16.98 38,-16.98 38,-12.82 42.17,-8.65 46.33,-8.65 46.33,-8.65 58.67,-8.65 58.67,-8.65 62.83,-8.65 67,-12.82 67,-16.98 67,-16.98 67,-25.32 67,-25.32 67,-29.48 62.83,-33.65 58.67,-33.65\"/>\n<text text-anchor=\"start\" x=\"46\" y=\"-18.65\" font-family=\"Monospace\" font-size=\"10.00\">q1</text>\n</g>\n<!-- _START&#45;&gt;0 -->\n<g id=\"edge1\" class=\"edge\">\n\n<path fill=\"none\" stroke=\"black\" d=\"M1.14,-21.15C2.84,-21.15 19.1,-21.15 32.69,-21.15\"/>\n<polygon fill=\"black\" stroke=\"black\" points=\"37.92,-21.15 32.92,-23.4 35.42,-21.15 32.92,-21.15 32.92,-21.15 32.92,-21.15 35.42,-21.15 32.92,-18.9 37.92,-21.15 37.92,-21.15\"/>\n</g>\n<!-- 1 -->\n<g id=\"node3\" class=\"node\">\n\n<path fill=\"none\" stroke=\"black\" d=\"M130.33,-72.65C130.33,-72.65 120.67,-72.65 120.67,-72.65 117.83,-72.65 115,-69.82 115,-66.98 115,-66.98 115,-61.32 115,-61.32 115,-58.48 117.83,-55.65 120.67,-55.65 120.67,-55.65 130.33,-55.65 130.33,-55.65 133.17,-55.65 136,-58.48 136,-61.32 136,-61.32 136,-66.98 136,-66.98 136,-69.82 133.17,-72.65 130.33,-72.65\"/>\n<text text-anchor=\"start\" x=\"119\" y=\"-61.65\" font-family=\"Monospace\" font-size=\"10.00\">q2</text>\n</g>\n<!-- 0&#45;&gt;1 -->\n<g id=\"edge3\" class=\"edge\">\n\n<path fill=\"none\" stroke=\"black\" d=\"M67.19,-29.44C79.68,-37.01 98.05,-48.13 110.6,-55.73\"/>\n<polygon fill=\"black\" stroke=\"black\" points=\"114.94,-58.36 109.5,-57.7 112.8,-57.07 110.67,-55.77 110.67,-55.77 110.67,-55.77 112.8,-57.07 111.83,-53.85 114.94,-58.36 114.94,-58.36\"/>\n<text text-anchor=\"start\" x=\"88\" y=\"-51.95\" font-family=\"Monospace\" font-size=\"9.00\">b</text>\n</g>\n<!-- 2 -->\n<g id=\"node4\" class=\"node\">\n\n<path fill=\"none\" stroke=\"black\" d=\"M199.33,-29.65C199.33,-29.65 189.67,-29.65 189.67,-29.65 186.83,-29.65 184,-26.82 184,-23.98 184,-23.98 184,-18.32 184,-18.32 184,-15.48 186.83,-12.65 189.67,-12.65 189.67,-12.65 199.33,-12.65 199.33,-12.65 202.17,-12.65 205,-15.48 205,-18.32 205,-18.32 205,-23.98 205,-23.98 205,-26.82 202.17,-29.65 199.33,-29.65\"/>\n<text text-anchor=\"start\" x=\"188\" y=\"-18.65\" font-family=\"Monospace\" font-size=\"10.00\">q3</text>\n</g>\n<!-- 0&#45;&gt;2 -->\n<g id=\"edge2\" class=\"edge\">\n\n<path fill=\"none\" stroke=\"black\" d=\"M67.18,-21.15C93.63,-21.15 151.56,-21.15 178.8,-21.15\"/>\n<polygon fill=\"black\" stroke=\"black\" points=\"183.82,-21.15 178.82,-23.4 181.32,-21.15 178.82,-21.15 178.82,-21.15 178.82,-21.15 181.32,-21.15 178.82,-18.9 183.82,-21.15 183.82,-21.15\"/>\n<text text-anchor=\"start\" x=\"122.5\" y=\"-26.95\" font-family=\"Monospace\" font-size=\"9.00\">ε</text>\n</g>\n<!-- 1&#45;&gt;1 -->\n<g id=\"edge5\" class=\"edge\">\n\n<path fill=\"none\" stroke=\"black\" d=\"M120.43,-72.84C117.64,-81.33 119.32,-90.65 125.5,-90.65 130.42,-90.65 132.49,-84.73 131.72,-78.03\"/>\n<polygon fill=\"black\" stroke=\"black\" points=\"130.57,-72.84 133.84,-77.23 131.11,-75.28 131.65,-77.72 131.65,-77.72 131.65,-77.72 131.11,-75.28 129.45,-78.21 130.57,-72.84 130.57,-72.84\"/>\n<text text-anchor=\"start\" x=\"122.5\" y=\"-96.45\" font-family=\"Monospace\" font-size=\"9.00\">a</text>\n</g>\n<!-- 1&#45;&gt;2 -->\n<g id=\"edge4\" class=\"edge\">\n\n<path fill=\"none\" stroke=\"black\" d=\"M136.1,-57.99C147.44,-50.71 166.42,-38.53 179.42,-30.19\"/>\n<polygon fill=\"black\" stroke=\"black\" points=\"183.92,-27.3 180.93,-31.9 181.81,-28.65 179.71,-30 179.71,-30 179.71,-30 181.81,-28.65 178.5,-28.11 183.92,-27.3 183.92,-27.3\"/>\n<text text-anchor=\"start\" x=\"157\" y=\"-64.95\" font-family=\"Monospace\" font-size=\"9.00\">a</text>\n<text text-anchor=\"start\" x=\"157\" y=\"-50.95\" font-family=\"Monospace\" font-size=\"9.00\">b</text>\n</g>\n<!-- 2&#45;&gt;0 -->\n<g id=\"edge6\" class=\"edge\">\n\n<path fill=\"none\" stroke=\"black\" d=\"M183.99,-16.73C172.8,-11.8 153.51,-4.11 136,-1.15 113.74,2.61 88.59,-5.29 71.97,-12.24\"/>\n<polygon fill=\"black\" stroke=\"black\" points=\"67.1,-14.35 70.79,-10.3 69.39,-13.36 71.69,-12.36 71.69,-12.36 71.69,-12.36 69.39,-13.36 72.58,-14.43 67.1,-14.35 67.1,-14.35\"/>\n<text text-anchor=\"start\" x=\"122.5\" y=\"-6.95\" font-family=\"Monospace\" font-size=\"9.00\">a</text>\n</g>\n</g>\n</svg>"
          },
          "metadata": {}
        }
      ],
      "source": [
        "n4"
      ]
    },
    {
      "cell_type": "markdown",
      "metadata": {
        "id": "F1ZX-s8v-8eF"
      },
      "source": [
        "Each state of $D_4$ is a subset of the states of $N_4$. Let's call the states of $D_4$ *state-sets* to help distinguish them from states of $N_4$.\n",
        "\n",
        "The start state-set of $D_4$ contains $q_1$ because it's the start state of $N_4$, and it also contains $q_3$ because $N_4$ has an $\\varepsilon$-transition from $q_1$ to $q_3$. (If $q_3$ had an $\\varepsilon$-transition too, we'd follow that, too.)\n",
        "\n",
        "Next, look at state-set $\\{q_1, q_3\\}$. What states can be reached from any of these states on symbol $\\texttt{a}$? We can reach $q_1$ and (via $\\varepsilon$-transitions) $q_3$, so we add a transition from $\\{q_1, q_3\\}$ to itself.\n",
        "\n",
        "What states can be reached from $\\{q_1, q_3\\}$ on symbol $\\texttt{b}$? Just $q_2$, so we add a transition from $\\{q_1, q_3\\}$ to $\\{q_2\\}$.\n",
        "\n",
        "Repeat this until every state-set has a transition for every symbol.\n",
        "\n",
        "The accepting state-sets are those that contain $q_1$."
      ]
    },
    {
      "cell_type": "markdown",
      "metadata": {
        "id": "Tp9Wfvq2-8eG"
      },
      "source": [
        "**Exercise.**\n",
        "\n",
        "(a) Determinize your NFA for $\\{u \\texttt{000} v \\mid u, v \\in \\{\\texttt{0}, \\texttt{1}\\}^\\ast\\}$ using the above construction. Does the result look like how you'd write a program to search for $\\texttt{000}$?\n",
        "\n",
        "(b) Think about searching for a more complex pattern like $p = \\texttt{001002}$ in a string like $w = \\texttt{001001002}$. The simple algorithm would take time $O(|p||w|)$, but there's [a way to do it](https://en.wikipedia.org/wiki/Knuth–Morris–Pratt_algorithm) in time $O(|w|)$. How would you do it using automata?"
      ]
    },
    {
      "cell_type": "markdown",
      "metadata": {
        "id": "cdz3eH_C-8eG"
      },
      "source": [
        "### Formal definition\n",
        "\n",
        "The book wisely defines the construction assuming no $\\varepsilon$-transitions first. Given a NFA $N = (Q, \\Sigma, \\delta, s, F)$ without $\\varepsilon$-transitions, we can construct a DFA $M'$ that recognizes $\\mathcal{L}(N)$.\n",
        "\n",
        "The states of $M'$ are subsets of $Q$. To avoid confusion, we call them state-sets.\n",
        "\n",
        "The start state-set is $\\{s\\}$.\n",
        "\n",
        "The transitions are constructed as follows: For every state-set $\\bar{q} \\subseteq Q$, for every $q \\in \\bar{q}$, for every transition in $N$ from $q$ on symbol $a$ to $r$, add $r$ to $\\delta'(\\bar{q}, a)$.\n",
        "\n",
        "Finally, a state-set is accepting if it contains an element of $F$.\n",
        "\n",
        "More formally,\n",
        "\\begin{align}\n",
        "M' &= (\\mathcal{P}(Q), \\Sigma, \\delta', \\{s\\}, F') \\\\\n",
        "F' &= \\{ \\bar{q} \\subseteq Q \\mid \\bar{q} \\cap F \\neq \\emptyset \\} \\\\\n",
        "\\delta'(\\bar{q}, a) &= \\bigcup_{q \\in \\bar{q}} \\delta(q, a).\n",
        "\\end{align}\n",
        "\n",
        "Now the general case: Let $N = (Q, \\Sigma, \\delta, s, F)$ be any NFA. If $\\bar{q} \\subseteq Q$ is a set of states, define $E(\\bar{q})$, the $\\varepsilon$-closure of $\\bar{q}$, to be the set of states reachable from a state in $\\bar{q}$ via 0 or more $\\varepsilon$-transitions. More formally, $E(\\bar{q})$ is the smallest set such that\n",
        "- $\\bar{q} \\subseteq E(\\bar{q})$.\n",
        "- If $q \\in E(\\bar{q})$, then $\\delta(q, \\varepsilon) \\subseteq E(\\bar{q})$.\n",
        "\n",
        "Then construct $M'$ as above, and then a DFA $M''$:\n",
        "\\begin{align}\n",
        "M'' &= (\\mathcal{P}(Q), \\Sigma, \\delta'', E(\\{s\\}), F') \\\\\n",
        "\\delta''(\\bar{q}, a) &= E(\\delta'(q, a)).\n",
        "\\end{align}\n",
        "Then $M''$ recognizes $\\mathcal{L}(N)$. We omit a proof of correctness."
      ]
    }
  ]
}